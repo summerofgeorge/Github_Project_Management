{
 "metadata": {
  "language_info": {
   "codemirror_mode": {
    "name": "ipython",
    "version": 3
   },
   "file_extension": ".py",
   "mimetype": "text/x-python",
   "name": "python",
   "nbconvert_exporter": "python",
   "pygments_lexer": "ipython3",
   "version": "3.8.1-final"
  },
  "orig_nbformat": 2,
  "kernelspec": {
   "name": "python38164bitgpxenvconda48ca4c503e2d40e68f7844ea8bc20df9",
   "display_name": "Python 3.8.1 64-bit ('GPX_env': conda)",
   "language": "python"
  }
 },
 "nbformat": 4,
 "nbformat_minor": 2,
 "cells": [
  {
   "cell_type": "code",
   "execution_count": null,
   "metadata": {},
   "outputs": [],
   "source": [
    "sub2.groupby(['domain'])['open','closed'].agg('sum')"
   ]
  },
  {
   "cell_type": "code",
   "execution_count": 4,
   "metadata": {},
   "outputs": [],
   "source": [
    "#load modules\n",
    "import requests\n",
    "import os\n",
    "from pprint import pprint\n",
    "import config #Where to save your Github token\n",
    "import pandas as pd\n",
    "import json\n",
    "import glob"
   ]
  },
  {
   "cell_type": "code",
   "execution_count": 9,
   "metadata": {},
   "outputs": [],
   "source": [
    "#set pandas to show all of string in columns\n",
    "pd.set_option('display.max_colwidth',-1)"
   ]
  },
  {
   "cell_type": "code",
   "execution_count": 6,
   "metadata": {},
   "outputs": [
    {
     "output_type": "stream",
     "name": "stdout",
     "text": [
      "['all_issues_uxui-programs_2020-12-11.csv', 'all_issues_data-science_2020-12-11.csv', 'all_issues_digital-marketing-programs_2020-12-11.csv', 'all_issues_data-analytics-bootcamp_2020-12-11.csv', 'all_issues_web-dev-programs_2020-12-11.csv', 'all_issues_product-management_2020-12-11.csv', 'all_issues_technical-project-management-programs_2020-12-11.csv']\n"
     ]
    }
   ],
   "source": [
    "#list all csv files in current dir\n",
    "result = glob.glob( '**.csv' )\n",
    "print(result)"
   ]
  },
  {
   "cell_type": "code",
   "execution_count": 84,
   "metadata": {},
   "outputs": [
    {
     "output_type": "stream",
     "name": "stdout",
     "text": [
      "(10616, 33)\n"
     ]
    },
    {
     "output_type": "execute_result",
     "data": {
      "text/plain": [
       "                                                                                                                                                                                                                                                                                                                                                                           \n",
       "10615  NaN                                                                                                                                                                                                                                                                                                                                                                                                                                                                                                                                                                                                                                                                                                                                                      \n",
       "\n",
       "                  closed_at  comments  \\\n",
       "0      2020-12-10T20:43:02Z  0          \n",
       "1      NaN                   0          \n",
       "2      NaN                   0          \n",
       "3      NaN                   0          \n",
       "4      2020-12-10T16:46:57Z  0          \n",
       "...                     ... ..          \n",
       "10611  NaN                   0          \n",
       "10612  2020-05-31T19:48:37Z  0          \n",
       "10613  2020-05-31T19:45:01Z  0          \n",
       "10614  2020-05-31T19:50:32Z  0          \n",
       "10615  2020-05-28T16:21:09Z  0          \n",
       "\n",
       "                                                                                           comments_url  \\\n",
       "0      https://api.github.com/repos/Thinkful-Ed/uxui-programs/issues/926/comments                         \n",
       "1      https://api.github.com/repos/Thinkful-Ed/uxui-programs/issues/925/comments                         \n",
       "2      https://api.github.com/repos/Thinkful-Ed/uxui-programs/issues/924/comments                         \n",
       "3      https://api.github.com/repos/Thinkful-Ed/uxui-programs/issues/923/comments                         \n",
       "4      https://api.github.com/repos/Thinkful-Ed/uxui-programs/issues/922/comments                         \n",
       "...                                                                           ...                         \n",
       "10611  https://api.github.com/repos/Thinkful-Ed/technical-project-management-programs/issues/5/comments   \n",
       "10612  https://api.github.com/repos/Thinkful-Ed/technical-project-management-programs/issues/4/comments   \n",
       "10613  https://api.github.com/repos/Thinkful-Ed/technical-project-management-programs/issues/3/comments   \n",
       "10614  https://api.github.com/repos/Thinkful-Ed/technical-project-management-programs/issues/2/comments   \n",
       "10615  https://api.github.com/repos/Thinkful-Ed/technical-project-management-programs/issues/1/comments   \n",
       "\n",
       "                 created_at       date  ...  \\\n",
       "0      2020-12-10T20:42:04Z 2020-12-10  ...   \n",
       "1      2020-12-10T19:56:21Z 2020-12-10  ...   \n",
       "2      2020-12-10T17:53:28Z 2020-12-10  ...   \n",
       "3      2020-12-10T16:58:21Z 2020-12-10  ...   \n",
       "4      2020-12-10T16:45:34Z 2020-12-10  ...   \n",
       "...                     ...        ...  ...   \n",
       "10611  2020-06-10T21:07:14Z 2020-06-10  ...   \n",
       "10612  2020-05-29T22:35:22Z 2020-05-29  ...   \n",
       "10613  2020-05-29T22:34:58Z 2020-05-29  ...   \n",
       "10614  2020-05-29T22:34:02Z 2020-05-29  ...   \n",
       "10615  2020-05-28T14:45:23Z 2020-05-28  ...   \n",
       "\n",
       "                                                    title  \\\n",
       "0      Add content to prep assessment checkpoint            \n",
       "1      User-submitted feedback for UXUI-SP-VIS-I            \n",
       "2      User-submitted feedback for UXUI-UXI-DISCOVER        \n",
       "3      User-submitted feedback for UXUI-UXI-DEVELOP         \n",
       "4      careers interviewing v2                              \n",
       "...                        ...                              \n",
       "10611  User-submitted feedback for tpm-project-life-cycle   \n",
       "10612  Release PLC module                                   \n",
       "10613  Release Overview module                              \n",
       "10614  Release SDLC module                                  \n",
       "10615  Release orientation module                           \n",
       "\n",
       "                 updated_at  \\\n",
       "0      2020-12-10T20:43:06Z   \n",
       "1      2020-12-10T19:56:21Z   \n",
       "2      2020-12-10T17:53:28Z   \n",
       "3      2020-12-10T16:58:21Z   \n",
       "4      2020-12-10T16:47:00Z   \n",
       "...                     ...   \n",
       "10611  2020-06-10T21:07:14Z   \n",
       "10612  2020-05-31T19:48:41Z   \n",
       "10613  2020-05-31T19:45:04Z   \n",
       "10614  2020-05-31T19:50:35Z   \n",
       "10615  2020-05-28T16:21:14Z   \n",
       "\n",
       "                                                                                           url  \\\n",
       "0      https://api.github.com/repos/Thinkful-Ed/uxui-programs/issues/926                         \n",
       "1      https://api.github.com/repos/Thinkful-Ed/uxui-programs/issues/925                         \n",
       "2      https://api.github.com/repos/Thinkful-Ed/uxui-programs/issues/924                         \n",
       "3      https://api.github.com/repos/Thinkful-Ed/uxui-programs/issues/923                         \n",
       "4      https://api.github.com/repos/Thinkful-Ed/uxui-programs/issues/922                         \n",
       "...                                                                  ...                         \n",
       "10611  https://api.github.com/repos/Thinkful-Ed/technical-project-management-programs/issues/5   \n",
       "10612  https://api.github.com/repos/Thinkful-Ed/technical-project-management-programs/issues/4   \n",
       "10613  https://api.github.com/repos/Thinkful-Ed/technical-project-management-programs/issues/3   \n",
       "10614  https://api.github.com/repos/Thinkful-Ed/technical-project-management-programs/issues/2   \n",
       "10615  https://api.github.com/repos/Thinkful-Ed/technical-project-management-programs/issues/1   \n",
       "\n",
       "                                                                                                                                                                                                                                                                                                                                                                                                                                                                                                                                                                                                                                                                                                                                                                                                                                                                                                                                                                                                                                                          user  \\\n",
       "0      {'login': 'summerofgeorge', 'id': 25084690, 'node_id': 'MDQ6VXNlcjI1MDg0Njkw', 'avatar_url': 'https://avatars1.githubusercontent.com/u/25084690?v=4', 'gravatar_id': '', 'url': 'https://api.github.com/users/summerofgeorge', 'html_url': 'https://github.com/summerofgeorge', 'followers_url': 'https://api.github.com/users/summerofgeorge/followers', 'following_url': 'https://api.github.com/users/summerofgeorge/following{/other_user}', 'gists_url': 'https://api.github.com/users/summerofgeorge/gists{/gist_id}', 'starred_url': 'https://api.github.com/users/summerofgeorge/starred{/owner}{/repo}', 'subscriptions_url': 'https://api.github.com/users/summerofgeorge/subscriptions', 'organizations_url': 'https://api.github.com/users/summerofgeorge/orgs', 'repos_url': 'https://api.github.com/users/summerofgeorge/repos', 'events_url': 'https://api.github.com/users/summerofgeorge/events{/privacy}', 'received_events_url': 'https://api.github.com/users/summerofgeorge/received_events', 'type': 'User', 'site_admin': False}   \n",
       "1      {'login': 'thinkful-code', 'id': 5131406, 'node_id': 'MDQ6VXNlcjUxMzE0MDY=', 'avatar_url': 'https://avatars3.githubusercontent.com/u/5131406?v=4', 'gravatar_id': '', 'url': 'https://api.github.com/users/thinkful-code', 'html_url': 'https://github.com/thinkful-code', 'followers_url': 'https://api.github.com/users/thinkful-code/followers', 'following_url': 'https://api.github.com/users/thinkful-code/following{/other_user}', 'gists_url': 'https://api.github.com/users/thinkful-code/gists{/gist_id}', 'starred_url': 'https://api.github.com/users/thinkful-code/starred{/owner}{/repo}', 'subscriptions_url': 'https://api.github.com/users/thinkful-code/subscriptions', 'organizations_url': 'https://api.github.com/users/thinkful-code/orgs', 'repos_url': 'https://api.github.com/users/thinkful-code/repos', 'events_url': 'https://api.github.com/users/thinkful-code/events{/privacy}', 'received_events_url': 'https://api.github.com/users/thinkful-code/received_events', 'type': 'User', 'site_admin': False}                 \n",
       "2      {'login': 'thinkful-code', 'id': 5131406, 'node_id': 'MDQ6VXNlcjUxMzE0MDY=', 'avatar_url': 'https://avatars3.githubusercontent.com/u/5131406?v=4', 'gravatar_id': '', 'url': 'https://api.github.com/users/thinkful-code', 'html_url': 'https://github.com/thinkful-code', 'followers_url': 'https://api.github.com/users/thinkful-code/followers', 'following_url': 'https://api.github.com/users/thinkful-code/following{/other_user}', 'gists_url': 'https://api.github.com/users/thinkful-code/gists{/gist_id}', 'starred_url': 'https://api.github.com/users/thinkful-code/starred{/owner}{/repo}', 'subscriptions_url': 'https://api.github.com/users/thinkful-code/subscriptions', 'organizations_url': 'https://api.github.com/users/thinkful-code/orgs', 'repos_url': 'https://api.github.com/users/thinkful-code/repos', 'events_url': 'https://api.github.com/users/thinkful-code/events{/privacy}', 'received_events_url': 'https://api.github.com/users/thinkful-code/received_events', 'type': 'User', 'site_admin': False}                 \n",
       "3      {'login': 'thinkful-code', 'id': 5131406, 'node_id': 'MDQ6VXNlcjUxMzE0MDY=', 'avatar_url': 'https://avatars3.githubusercontent.com/u/5131406?v=4', 'gravatar_id': '', 'url': 'https://api.github.com/users/thinkful-code', 'html_url': 'https://github.com/thinkful-code', 'followers_url': 'https://api.github.com/users/thinkful-code/followers', 'following_url': 'https://api.github.com/users/thinkful-code/following{/other_user}', 'gists_url': 'https://api.github.com/users/thinkful-code/gists{/gist_id}', 'starred_url': 'https://api.github.com/users/thinkful-code/starred{/owner}{/repo}', 'subscriptions_url': 'https://api.github.com/users/thinkful-code/subscriptions', 'organizations_url': 'https://api.github.com/users/thinkful-code/orgs', 'repos_url': 'https://api.github.com/users/thinkful-code/repos', 'events_url': 'https://api.github.com/users/thinkful-code/events{/privacy}', 'received_events_url': 'https://api.github.com/users/thinkful-code/received_events', 'type': 'User', 'site_admin': False}                 \n",
       "4      {'login': 'summerofgeorge', 'id': 25084690, 'node_id': 'MDQ6VXNlcjI1MDg0Njkw', 'avatar_url': 'https://avatars1.githubusercontent.com/u/25084690?v=4', 'gravatar_id': '', 'url': 'https://api.github.com/users/summerofgeorge', 'html_url': 'https://github.com/summerofgeorge', 'followers_url': 'https://api.github.com/users/summerofgeorge/followers', 'following_url': 'https://api.github.com/users/summerofgeorge/following{/other_user}', 'gists_url': 'https://api.github.com/users/summerofgeorge/gists{/gist_id}', 'starred_url': 'https://api.github.com/users/summerofgeorge/starred{/owner}{/repo}', 'subscriptions_url': 'https://api.github.com/users/summerofgeorge/subscriptions', 'organizations_url': 'https://api.github.com/users/summerofgeorge/orgs', 'repos_url': 'https://api.github.com/users/summerofgeorge/repos', 'events_url': 'https://api.github.com/users/summerofgeorge/events{/privacy}', 'received_events_url': 'https://api.github.com/users/summerofgeorge/received_events', 'type': 'User', 'site_admin': False}   \n",
       "...                                                                                                                                                                                                                                                                                                                                                                                                                                                                                                                                                                                                                                                                                                                                                                                                                                                                                                                                                                                                                                                        ...   \n",
       "10611  {'login': 'thinkful-code', 'id': 5131406, 'node_id': 'MDQ6VXNlcjUxMzE0MDY=', 'avatar_url': 'https://avatars3.githubusercontent.com/u/5131406?v=4', 'gravatar_id': '', 'url': 'https://api.github.com/users/thinkful-code', 'html_url': 'https://github.com/thinkful-code', 'followers_url': 'https://api.github.com/users/thinkful-code/followers', 'following_url': 'https://api.github.com/users/thinkful-code/following{/other_user}', 'gists_url': 'https://api.github.com/users/thinkful-code/gists{/gist_id}', 'starred_url': 'https://api.github.com/users/thinkful-code/starred{/owner}{/repo}', 'subscriptions_url': 'https://api.github.com/users/thinkful-code/subscriptions', 'organizations_url': 'https://api.github.com/users/thinkful-code/orgs', 'repos_url': 'https://api.github.com/users/thinkful-code/repos', 'events_url': 'https://api.github.com/users/thinkful-code/events{/privacy}', 'received_events_url': 'https://api.github.com/users/thinkful-code/received_events', 'type': 'User', 'site_admin': False}                 \n",
       "10612  {'login': 'alfaraday', 'id': 16445212, 'node_id': 'MDQ6VXNlcjE2NDQ1MjEy', 'avatar_url': 'https://avatars2.githubusercontent.com/u/16445212?v=4', 'gravatar_id': '', 'url': 'https://api.github.com/users/alfaraday', 'html_url': 'https://github.com/alfaraday', 'followers_url': 'https://api.github.com/users/alfaraday/followers', 'following_url': 'https://api.github.com/users/alfaraday/following{/other_user}', 'gists_url': 'https://api.github.com/users/alfaraday/gists{/gist_id}', 'starred_url': 'https://api.github.com/users/alfaraday/starred{/owner}{/repo}', 'subscriptions_url': 'https://api.github.com/users/alfaraday/subscriptions', 'organizations_url': 'https://api.github.com/users/alfaraday/orgs', 'repos_url': 'https://api.github.com/users/alfaraday/repos', 'events_url': 'https://api.github.com/users/alfaraday/events{/privacy}', 'received_events_url': 'https://api.github.com/users/alfaraday/received_events', 'type': 'User', 'site_admin': False}                                                               \n",
       "10613  {'login': 'alfaraday', 'id': 16445212, 'node_id': 'MDQ6VXNlcjE2NDQ1MjEy', 'avatar_url': 'https://avatars2.githubusercontent.com/u/16445212?v=4', 'gravatar_id': '', 'url': 'https://api.github.com/users/alfaraday', 'html_url': 'https://github.com/alfaraday', 'followers_url': 'https://api.github.com/users/alfaraday/followers', 'following_url': 'https://api.github.com/users/alfaraday/following{/other_user}', 'gists_url': 'https://api.github.com/users/alfaraday/gists{/gist_id}', 'starred_url': 'https://api.github.com/users/alfaraday/starred{/owner}{/repo}', 'subscriptions_url': 'https://api.github.com/users/alfaraday/subscriptions', 'organizations_url': 'https://api.github.com/users/alfaraday/orgs', 'repos_url': 'https://api.github.com/users/alfaraday/repos', 'events_url': 'https://api.github.com/users/alfaraday/events{/privacy}', 'received_events_url': 'https://api.github.com/users/alfaraday/received_events', 'type': 'User', 'site_admin': False}                                                               \n",
       "10614  {'login': 'alfaraday', 'id': 16445212, 'node_id': 'MDQ6VXNlcjE2NDQ1MjEy', 'avatar_url': 'https://avatars2.githubusercontent.com/u/16445212?v=4', 'gravatar_id': '', 'url': 'https://api.github.com/users/alfaraday', 'html_url': 'https://github.com/alfaraday', 'followers_url': 'https://api.github.com/users/alfaraday/followers', 'following_url': 'https://api.github.com/users/alfaraday/following{/other_user}', 'gists_url': 'https://api.github.com/users/alfaraday/gists{/gist_id}', 'starred_url': 'https://api.github.com/users/alfaraday/starred{/owner}{/repo}', 'subscriptions_url': 'https://api.github.com/users/alfaraday/subscriptions', 'organizations_url': 'https://api.github.com/users/alfaraday/orgs', 'repos_url': 'https://api.github.com/users/alfaraday/repos', 'events_url': 'https://api.github.com/users/alfaraday/events{/privacy}', 'received_events_url': 'https://api.github.com/users/alfaraday/received_events', 'type': 'User', 'site_admin': False}                                                               \n",
       "10615  {'login': 'alfaraday', 'id': 16445212, 'node_id': 'MDQ6VXNlcjE2NDQ1MjEy', 'avatar_url': 'https://avatars2.githubusercontent.com/u/16445212?v=4', 'gravatar_id': '', 'url': 'https://api.github.com/users/alfaraday', 'html_url': 'https://github.com/alfaraday', 'followers_url': 'https://api.github.com/users/alfaraday/followers', 'following_url': 'https://api.github.com/users/alfaraday/following{/other_user}', 'gists_url': 'https://api.github.com/users/alfaraday/gists{/gist_id}', 'starred_url': 'https://api.github.com/users/alfaraday/starred{/owner}{/repo}', 'subscriptions_url': 'https://api.github.com/users/alfaraday/subscriptions', 'organizations_url': 'https://api.github.com/users/alfaraday/orgs', 'repos_url': 'https://api.github.com/users/alfaraday/repos', 'events_url': 'https://api.github.com/users/alfaraday/events{/privacy}', 'received_events_url': 'https://api.github.com/users/alfaraday/received_events', 'type': 'User', 'site_admin': False}                                                               \n",
       "\n",
       "                                                                          checkpoint  \\\n",
       "0      NaN                                                                             \n",
       "1      Live URL: https://courses.thinkful.com/uxui-sp-vis-i-v1/checkpoint/5            \n",
       "2      Live URL: https://courses.thinkful.com/uxui-uxi-discover-v1/checkpoint/4        \n",
       "3      Live URL: https://courses.thinkful.com/uxui-uxi-develop-v1/checkpoint/4         \n",
       "4      NaN                                                                             \n",
       "...    ...                                                                             \n",
       "10611  Live URL: https://courses.thinkful.com/tpm-project-life-cycle-v1/checkpoint/1   \n",
       "10612  NaN                                                                             \n",
       "10613  NaN                                                                             \n",
       "10614  NaN                                                                             \n",
       "10615  NaN                                                                             \n",
       "\n",
       "       year  week month  module                                 domain  \n",
       "0      2020  50    12    None    uxui-programs                          \n",
       "1      2020  50    12    None    uxui-programs                          \n",
       "2      2020  50    12    None    uxui-programs                          \n",
       "3      2020  50    12    None    uxui-programs                          \n",
       "4      2020  50    12    None    uxui-programs                          \n",
       "...     ...  ..    ..     ...              ...                          \n",
       "10611  2020  24    6     None    technical-project-management-programs  \n",
       "10612  2020  22    5     None    technical-project-management-programs  \n",
       "10613  2020  22    5     None    technical-project-management-programs  \n",
       "10614  2020  22    5     None    technical-project-management-programs  \n",
       "10615  2020  22    5     None    technical-project-management-programs  \n",
       "\n",
       "[10616 rows x 33 columns]"
      ],
      "text/html": "<div>\n<style scoped>\n    .dataframe tbody tr th:only-of-type {\n        vertical-align: middle;\n    }\n\n    .dataframe tbody tr th {\n        vertical-align: top;\n    }\n\n    .dataframe thead th {\n        text-align: right;\n    }\n</style>\n<table border=\"1\" class=\"dataframe\">\n  <thead>\n    <tr style=\"text-align: right;\">\n      <th></th>\n      <th>active_lock_reason</th>\n      <th>assignee</th>\n      <th>assignees</th>\n      <th>author_association</th>\n      <th>body</th>\n      <th>closed_at</th>\n      <th>comments</th>\n      <th>comments_url</th>\n      <th>created_at</th>\n      <th>date</th>\n      <th>...</th>\n      <th>title</th>\n      <th>updated_at</th>\n      <th>url</th>\n      <th>user</th>\n      <th>checkpoint</th>\n      <th>year</th>\n      <th>week</th>\n      <th>month</th>\n      <th>module</th>\n      <th>domain</th>\n    </tr>\n  </thead>\n  <tbody>\n    <tr>\n      <th>0</th>\n      <td>NaN</td>\n      <td>NaN</td>\n      <td>[]</td>\n      <td>CONTRIBUTOR</td>\n      <td>NaN</td>\n      <td>2020-12-10T20:43:02Z</td>\n      <td>0</td>\n      <td>https://api.github.com/repos/Thinkful-Ed/uxui-programs/issues/926/comments</td>\n      <td>2020-12-10T20:42:04Z</td>\n      <td>2020-12-10</td>\n      <td>...</td>\n      <td>Add content to prep assessment checkpoint</td>\n      <td>2020-12-10T20:43:06Z</td>\n      <td>https://api.github.com/repos/Thinkful-Ed/uxui-programs/issues/926</td>\n      <td>{'login': 'summerofgeorge', 'id': 25084690, 'node_id': 'MDQ6VXNlcjI1MDg0Njkw', 'avatar_url': 'https://avatars1.githubusercontent.com/u/25084690?v=4', 'gravatar_id': '', 'url': 'https://api.github.com/users/summerofgeorge', 'html_url': 'https://github.com/summerofgeorge', 'followers_url': 'https://api.github.com/users/summerofgeorge/followers', 'following_url': 'https://api.github.com/users/summerofgeorge/following{/other_user}', 'gists_url': 'https://api.github.com/users/summerofgeorge/gists{/gist_id}', 'starred_url': 'https://api.github.com/users/summerofgeorge/starred{/owner}{/repo}', 'subscriptions_url': 'https://api.github.com/users/summerofgeorge/subscriptions', 'organizations_url': 'https://api.github.com/users/summerofgeorge/orgs', 'repos_url': 'https://api.github.com/users/summerofgeorge/repos', 'events_url': 'https://api.github.com/users/summerofgeorge/events{/privacy}', 'received_events_url': 'https://api.github.com/users/summerofgeorge/received_events', 'type': 'User', 'site_admin': False}</td>\n      <td>NaN</td>\n      <td>2020</td>\n      <td>50</td>\n      <td>12</td>\n      <td>None</td>\n      <td>uxui-programs</td>\n    </tr>\n    <tr>\n      <th>1</th>\n      <td>NaN</td>\n      <td>NaN</td>\n      <td>[]</td>\n      <td>NONE</td>\n      <td>\\nRalph Baluyot (ralph.baluyot@gmail.com) reported an issue.\\n\\n\\nName: \"Testing screens\"\\n\\nLive URL: https://courses.thinkful.com/uxui-sp-vis-i-v1/checkpoint/5\\n\\nCourse code: UXUI-SP-VIS-I\\n\\nContent:\\n\\n\\n    video in this checkpoint has a broken link</td>\n      <td>NaN</td>\n      <td>0</td>\n      <td>https://api.github.com/repos/Thinkful-Ed/uxui-programs/issues/925/comments</td>\n      <td>2020-12-10T19:56:21Z</td>\n      <td>2020-12-10</td>\n      <td>...</td>\n      <td>User-submitted feedback for UXUI-SP-VIS-I</td>\n      <td>2020-12-10T19:56:21Z</td>\n      <td>https://api.github.com/repos/Thinkful-Ed/uxui-programs/issues/925</td>\n      <td>{'login': 'thinkful-code', 'id': 5131406, 'node_id': 'MDQ6VXNlcjUxMzE0MDY=', 'avatar_url': 'https://avatars3.githubusercontent.com/u/5131406?v=4', 'gravatar_id': '', 'url': 'https://api.github.com/users/thinkful-code', 'html_url': 'https://github.com/thinkful-code', 'followers_url': 'https://api.github.com/users/thinkful-code/followers', 'following_url': 'https://api.github.com/users/thinkful-code/following{/other_user}', 'gists_url': 'https://api.github.com/users/thinkful-code/gists{/gist_id}', 'starred_url': 'https://api.github.com/users/thinkful-code/starred{/owner}{/repo}', 'subscriptions_url': 'https://api.github.com/users/thinkful-code/subscriptions', 'organizations_url': 'https://api.github.com/users/thinkful-code/orgs', 'repos_url': 'https://api.github.com/users/thinkful-code/repos', 'events_url': 'https://api.github.com/users/thinkful-code/events{/privacy}', 'received_events_url': 'https://api.github.com/users/thinkful-code/received_events', 'type': 'User', 'site_admin': False}</td>\n      <td>Live URL: https://courses.thinkful.com/uxui-sp-vis-i-v1/checkpoint/5</td>\n      <td>2020</td>\n      <td>50</td>\n      <td>12</td>\n      <td>None</td>\n      <td>uxui-programs</td>\n    </tr>\n    <tr>\n      <th>2</th>\n      <td>NaN</td>\n      <td>NaN</td>\n      <td>[]</td>\n      <td>NONE</td>\n      <td>\\nOpeyemi Odejimi (oyodejimi-1@ou.edu) reported an issue.\\n\\n\\nName: \"User surveys\"\\n\\nLive URL: https://courses.thinkful.com/uxui-uxi-discover-v1/checkpoint/4\\n\\nCourse code: UXUI-UXI-DISCOVER\\n\\nContent:\\n\\n\\n    Why would you say that the user survey was optional if it is necessary for this project? I didn't do it because I don't have much free time only to find out in a later checkpoint that my assignments depend on the results of the \"optional\" survey I didn't create or deploy. This was confusing and I ended up falling behind my own schedule because I didn't anticipate having to go back and create this survey, deploy it, and analyze the results within a couple of days before I could move on to other checkpoints.</td>\n      <td>NaN</td>\n      <td>0</td>\n      <td>https://api.github.com/repos/Thinkful-Ed/uxui-programs/issues/924/comments</td>\n      <td>2020-12-10T17:53:28Z</td>\n      <td>2020-12-10</td>\n      <td>...</td>\n      <td>User-submitted feedback for UXUI-UXI-DISCOVER</td>\n      <td>2020-12-10T17:53:28Z</td>\n      <td>https://api.github.com/repos/Thinkful-Ed/uxui-programs/issues/924</td>\n      <td>{'login': 'thinkful-code', 'id': 5131406, 'node_id': 'MDQ6VXNlcjUxMzE0MDY=', 'avatar_url': 'https://avatars3.githubusercontent.com/u/5131406?v=4', 'gravatar_id': '', 'url': 'https://api.github.com/users/thinkful-code', 'html_url': 'https://github.com/thinkful-code', 'followers_url': 'https://api.github.com/users/thinkful-code/followers', 'following_url': 'https://api.github.com/users/thinkful-code/following{/other_user}', 'gists_url': 'https://api.github.com/users/thinkful-code/gists{/gist_id}', 'starred_url': 'https://api.github.com/users/thinkful-code/starred{/owner}{/repo}', 'subscriptions_url': 'https://api.github.com/users/thinkful-code/subscriptions', 'organizations_url': 'https://api.github.com/users/thinkful-code/orgs', 'repos_url': 'https://api.github.com/users/thinkful-code/repos', 'events_url': 'https://api.github.com/users/thinkful-code/events{/privacy}', 'received_events_url': 'https://api.github.com/users/thinkful-code/received_events', 'type': 'User', 'site_admin': False}</td>\n      <td>Live URL: https://courses.thinkful.com/uxui-uxi-discover-v1/checkpoint/4</td>\n      <td>2020</td>\n      <td>50</td>\n      <td>12</td>\n      <td>None</td>\n      <td>uxui-programs</td>\n    </tr>\n    <tr>\n      <th>3</th>\n      <td>NaN</td>\n      <td>NaN</td>\n      <td>[]</td>\n      <td>NONE</td>\n      <td>\\nJessica Solorzano (solorzano.jkay@gmail.com) reported an issue.\\n\\n\\nName: \"Viewport requirements in visual design planning\"\\n\\nLive URL: https://courses.thinkful.com/uxui-uxi-develop-v1/checkpoint/4\\n\\nCourse code: UXUI-UXI-DEVELOP\\n\\nContent:\\n\\n\\n    The video for different viewports does not show on my screen. There's a rectangular shaped box but no content inside.</td>\n      <td>NaN</td>\n      <td>0</td>\n      <td>https://api.github.com/repos/Thinkful-Ed/uxui-programs/issues/923/comments</td>\n      <td>2020-12-10T16:58:21Z</td>\n      <td>2020-12-10</td>\n      <td>...</td>\n      <td>User-submitted feedback for UXUI-UXI-DEVELOP</td>\n      <td>2020-12-10T16:58:21Z</td>\n      <td>https://api.github.com/repos/Thinkful-Ed/uxui-programs/issues/923</td>\n      <td>{'login': 'thinkful-code', 'id': 5131406, 'node_id': 'MDQ6VXNlcjUxMzE0MDY=', 'avatar_url': 'https://avatars3.githubusercontent.com/u/5131406?v=4', 'gravatar_id': '', 'url': 'https://api.github.com/users/thinkful-code', 'html_url': 'https://github.com/thinkful-code', 'followers_url': 'https://api.github.com/users/thinkful-code/followers', 'following_url': 'https://api.github.com/users/thinkful-code/following{/other_user}', 'gists_url': 'https://api.github.com/users/thinkful-code/gists{/gist_id}', 'starred_url': 'https://api.github.com/users/thinkful-code/starred{/owner}{/repo}', 'subscriptions_url': 'https://api.github.com/users/thinkful-code/subscriptions', 'organizations_url': 'https://api.github.com/users/thinkful-code/orgs', 'repos_url': 'https://api.github.com/users/thinkful-code/repos', 'events_url': 'https://api.github.com/users/thinkful-code/events{/privacy}', 'received_events_url': 'https://api.github.com/users/thinkful-code/received_events', 'type': 'User', 'site_admin': False}</td>\n      <td>Live URL: https://courses.thinkful.com/uxui-uxi-develop-v1/checkpoint/4</td>\n      <td>2020</td>\n      <td>50</td>\n      <td>12</td>\n      <td>None</td>\n      <td>uxui-programs</td>\n    </tr>\n    <tr>\n      <th>4</th>\n      <td>NaN</td>\n      <td>NaN</td>\n      <td>[]</td>\n      <td>CONTRIBUTOR</td>\n      <td>NaN</td>\n      <td>2020-12-10T16:46:57Z</td>\n      <td>0</td>\n      <td>https://api.github.com/repos/Thinkful-Ed/uxui-programs/issues/922/comments</td>\n      <td>2020-12-10T16:45:34Z</td>\n      <td>2020-12-10</td>\n      <td>...</td>\n      <td>careers interviewing v2</td>\n      <td>2020-12-10T16:47:00Z</td>\n      <td>https://api.github.com/repos/Thinkful-Ed/uxui-programs/issues/922</td>\n      <td>{'login': 'summerofgeorge', 'id': 25084690, 'node_id': 'MDQ6VXNlcjI1MDg0Njkw', 'avatar_url': 'https://avatars1.githubusercontent.com/u/25084690?v=4', 'gravatar_id': '', 'url': 'https://api.github.com/users/summerofgeorge', 'html_url': 'https://github.com/summerofgeorge', 'followers_url': 'https://api.github.com/users/summerofgeorge/followers', 'following_url': 'https://api.github.com/users/summerofgeorge/following{/other_user}', 'gists_url': 'https://api.github.com/users/summerofgeorge/gists{/gist_id}', 'starred_url': 'https://api.github.com/users/summerofgeorge/starred{/owner}{/repo}', 'subscriptions_url': 'https://api.github.com/users/summerofgeorge/subscriptions', 'organizations_url': 'https://api.github.com/users/summerofgeorge/orgs', 'repos_url': 'https://api.github.com/users/summerofgeorge/repos', 'events_url': 'https://api.github.com/users/summerofgeorge/events{/privacy}', 'received_events_url': 'https://api.github.com/users/summerofgeorge/received_events', 'type': 'User', 'site_admin': False}</td>\n      <td>NaN</td>\n      <td>2020</td>\n      <td>50</td>\n      <td>12</td>\n      <td>None</td>\n      <td>uxui-programs</td>\n    </tr>\n    <tr>\n      <th>...</th>\n      <td>...</td>\n      <td>...</td>\n      <td>...</td>\n      <td>...</td>\n      <td>...</td>\n      <td>...</td>\n      <td>...</td>\n      <td>...</td>\n      <td>...</td>\n      <td>...</td>\n      <td>...</td>\n      <td>...</td>\n      <td>...</td>\n      <td>...</td>\n      <td>...</td>\n      <td>...</td>\n      <td>...</td>\n      <td>...</td>\n      <td>...</td>\n      <td>...</td>\n      <td>...</td>\n    </tr>\n    <tr>\n      <th>10611</th>\n      <td>NaN</td>\n      <td>NaN</td>\n      <td>[]</td>\n      <td>NONE</td>\n      <td>\\nMichael Borghesani (mjborghesani@gmail.com) reported an issue.\\n\\n\\nName: \"Definitions, nomenclature, benefits\"\\n\\nLive URL: https://courses.thinkful.com/tpm-project-life-cycle-v1/checkpoint/1\\n\\nCourse code: tpm-project-life-cycle\\n\\nContent:\\n\\n\\n    Unclear what a \"partner project\" is</td>\n      <td>NaN</td>\n      <td>0</td>\n      <td>https://api.github.com/repos/Thinkful-Ed/technical-project-management-programs/issues/5/comments</td>\n      <td>2020-06-10T21:07:14Z</td>\n      <td>2020-06-10</td>\n      <td>...</td>\n      <td>User-submitted feedback for tpm-project-life-cycle</td>\n      <td>2020-06-10T21:07:14Z</td>\n      <td>https://api.github.com/repos/Thinkful-Ed/technical-project-management-programs/issues/5</td>\n      <td>{'login': 'thinkful-code', 'id': 5131406, 'node_id': 'MDQ6VXNlcjUxMzE0MDY=', 'avatar_url': 'https://avatars3.githubusercontent.com/u/5131406?v=4', 'gravatar_id': '', 'url': 'https://api.github.com/users/thinkful-code', 'html_url': 'https://github.com/thinkful-code', 'followers_url': 'https://api.github.com/users/thinkful-code/followers', 'following_url': 'https://api.github.com/users/thinkful-code/following{/other_user}', 'gists_url': 'https://api.github.com/users/thinkful-code/gists{/gist_id}', 'starred_url': 'https://api.github.com/users/thinkful-code/starred{/owner}{/repo}', 'subscriptions_url': 'https://api.github.com/users/thinkful-code/subscriptions', 'organizations_url': 'https://api.github.com/users/thinkful-code/orgs', 'repos_url': 'https://api.github.com/users/thinkful-code/repos', 'events_url': 'https://api.github.com/users/thinkful-code/events{/privacy}', 'received_events_url': 'https://api.github.com/users/thinkful-code/received_events', 'type': 'User', 'site_admin': False}</td>\n      <td>Live URL: https://courses.thinkful.com/tpm-project-life-cycle-v1/checkpoint/1</td>\n      <td>2020</td>\n      <td>24</td>\n      <td>6</td>\n      <td>None</td>\n      <td>technical-project-management-programs</td>\n    </tr>\n    <tr>\n      <th>10612</th>\n      <td>NaN</td>\n      <td>NaN</td>\n      <td>[]</td>\n      <td>CONTRIBUTOR</td>\n      <td>NaN</td>\n      <td>2020-05-31T19:48:37Z</td>\n      <td>0</td>\n      <td>https://api.github.com/repos/Thinkful-Ed/technical-project-management-programs/issues/4/comments</td>\n      <td>2020-05-29T22:35:22Z</td>\n      <td>2020-05-29</td>\n      <td>...</td>\n      <td>Release PLC module</td>\n      <td>2020-05-31T19:48:41Z</td>\n      <td>https://api.github.com/repos/Thinkful-Ed/technical-project-management-programs/issues/4</td>\n      <td>{'login': 'alfaraday', 'id': 16445212, 'node_id': 'MDQ6VXNlcjE2NDQ1MjEy', 'avatar_url': 'https://avatars2.githubusercontent.com/u/16445212?v=4', 'gravatar_id': '', 'url': 'https://api.github.com/users/alfaraday', 'html_url': 'https://github.com/alfaraday', 'followers_url': 'https://api.github.com/users/alfaraday/followers', 'following_url': 'https://api.github.com/users/alfaraday/following{/other_user}', 'gists_url': 'https://api.github.com/users/alfaraday/gists{/gist_id}', 'starred_url': 'https://api.github.com/users/alfaraday/starred{/owner}{/repo}', 'subscriptions_url': 'https://api.github.com/users/alfaraday/subscriptions', 'organizations_url': 'https://api.github.com/users/alfaraday/orgs', 'repos_url': 'https://api.github.com/users/alfaraday/repos', 'events_url': 'https://api.github.com/users/alfaraday/events{/privacy}', 'received_events_url': 'https://api.github.com/users/alfaraday/received_events', 'type': 'User', 'site_admin': False}</td>\n      <td>NaN</td>\n      <td>2020</td>\n      <td>22</td>\n      <td>5</td>\n      <td>None</td>\n      <td>technical-project-management-programs</td>\n    </tr>\n    <tr>\n      <th>10613</th>\n      <td>NaN</td>\n      <td>NaN</td>\n      <td>[]</td>\n      <td>CONTRIBUTOR</td>\n      <td>NaN</td>\n      <td>2020-05-31T19:45:01Z</td>\n      <td>0</td>\n      <td>https://api.github.com/repos/Thinkful-Ed/technical-project-management-programs/issues/3/comments</td>\n      <td>2020-05-29T22:34:58Z</td>\n      <td>2020-05-29</td>\n      <td>...</td>\n      <td>Release Overview module</td>\n      <td>2020-05-31T19:45:04Z</td>\n      <td>https://api.github.com/repos/Thinkful-Ed/technical-project-management-programs/issues/3</td>\n      <td>{'login': 'alfaraday', 'id': 16445212, 'node_id': 'MDQ6VXNlcjE2NDQ1MjEy', 'avatar_url': 'https://avatars2.githubusercontent.com/u/16445212?v=4', 'gravatar_id': '', 'url': 'https://api.github.com/users/alfaraday', 'html_url': 'https://github.com/alfaraday', 'followers_url': 'https://api.github.com/users/alfaraday/followers', 'following_url': 'https://api.github.com/users/alfaraday/following{/other_user}', 'gists_url': 'https://api.github.com/users/alfaraday/gists{/gist_id}', 'starred_url': 'https://api.github.com/users/alfaraday/starred{/owner}{/repo}', 'subscriptions_url': 'https://api.github.com/users/alfaraday/subscriptions', 'organizations_url': 'https://api.github.com/users/alfaraday/orgs', 'repos_url': 'https://api.github.com/users/alfaraday/repos', 'events_url': 'https://api.github.com/users/alfaraday/events{/privacy}', 'received_events_url': 'https://api.github.com/users/alfaraday/received_events', 'type': 'User', 'site_admin': False}</td>\n      <td>NaN</td>\n      <td>2020</td>\n      <td>22</td>\n      <td>5</td>\n      <td>None</td>\n      <td>technical-project-management-programs</td>\n    </tr>\n    <tr>\n      <th>10614</th>\n      <td>NaN</td>\n      <td>NaN</td>\n      <td>[]</td>\n      <td>CONTRIBUTOR</td>\n      <td>NaN</td>\n      <td>2020-05-31T19:50:32Z</td>\n      <td>0</td>\n      <td>https://api.github.com/repos/Thinkful-Ed/technical-project-management-programs/issues/2/comments</td>\n      <td>2020-05-29T22:34:02Z</td>\n      <td>2020-05-29</td>\n      <td>...</td>\n      <td>Release SDLC module</td>\n      <td>2020-05-31T19:50:35Z</td>\n      <td>https://api.github.com/repos/Thinkful-Ed/technical-project-management-programs/issues/2</td>\n      <td>{'login': 'alfaraday', 'id': 16445212, 'node_id': 'MDQ6VXNlcjE2NDQ1MjEy', 'avatar_url': 'https://avatars2.githubusercontent.com/u/16445212?v=4', 'gravatar_id': '', 'url': 'https://api.github.com/users/alfaraday', 'html_url': 'https://github.com/alfaraday', 'followers_url': 'https://api.github.com/users/alfaraday/followers', 'following_url': 'https://api.github.com/users/alfaraday/following{/other_user}', 'gists_url': 'https://api.github.com/users/alfaraday/gists{/gist_id}', 'starred_url': 'https://api.github.com/users/alfaraday/starred{/owner}{/repo}', 'subscriptions_url': 'https://api.github.com/users/alfaraday/subscriptions', 'organizations_url': 'https://api.github.com/users/alfaraday/orgs', 'repos_url': 'https://api.github.com/users/alfaraday/repos', 'events_url': 'https://api.github.com/users/alfaraday/events{/privacy}', 'received_events_url': 'https://api.github.com/users/alfaraday/received_events', 'type': 'User', 'site_admin': False}</td>\n      <td>NaN</td>\n      <td>2020</td>\n      <td>22</td>\n      <td>5</td>\n      <td>None</td>\n      <td>technical-project-management-programs</td>\n    </tr>\n    <tr>\n      <th>10615</th>\n      <td>NaN</td>\n      <td>NaN</td>\n      <td>[]</td>\n      <td>CONTRIBUTOR</td>\n      <td>NaN</td>\n      <td>2020-05-28T16:21:09Z</td>\n      <td>0</td>\n      <td>https://api.github.com/repos/Thinkful-Ed/technical-project-management-programs/issues/1/comments</td>\n      <td>2020-05-28T14:45:23Z</td>\n      <td>2020-05-28</td>\n      <td>...</td>\n      <td>Release orientation module</td>\n      <td>2020-05-28T16:21:14Z</td>\n      <td>https://api.github.com/repos/Thinkful-Ed/technical-project-management-programs/issues/1</td>\n      <td>{'login': 'alfaraday', 'id': 16445212, 'node_id': 'MDQ6VXNlcjE2NDQ1MjEy', 'avatar_url': 'https://avatars2.githubusercontent.com/u/16445212?v=4', 'gravatar_id': '', 'url': 'https://api.github.com/users/alfaraday', 'html_url': 'https://github.com/alfaraday', 'followers_url': 'https://api.github.com/users/alfaraday/followers', 'following_url': 'https://api.github.com/users/alfaraday/following{/other_user}', 'gists_url': 'https://api.github.com/users/alfaraday/gists{/gist_id}', 'starred_url': 'https://api.github.com/users/alfaraday/starred{/owner}{/repo}', 'subscriptions_url': 'https://api.github.com/users/alfaraday/subscriptions', 'organizations_url': 'https://api.github.com/users/alfaraday/orgs', 'repos_url': 'https://api.github.com/users/alfaraday/repos', 'events_url': 'https://api.github.com/users/alfaraday/events{/privacy}', 'received_events_url': 'https://api.github.com/users/alfaraday/received_events', 'type': 'User', 'site_admin': False}</td>\n      <td>NaN</td>\n      <td>2020</td>\n      <td>22</td>\n      <td>5</td>\n      <td>None</td>\n      <td>technical-project-management-programs</td>\n    </tr>\n  </tbody>\n</table>\n<p>10616 rows × 33 columns</p>\n</div>"
     },
     "metadata": {},
     "execution_count": 84
    }
   ],
   "source": [
    "#load all issue csv files\n",
    "all_files = glob.glob(\"*.csv\")\n",
    "\n",
    "li = []\n",
    "\n",
    "for filename in all_files:\n",
    "    df = pd.read_csv(filename, index_col=None, header=0)\n",
    "    li.append(df)\n",
    "\n",
    "df = pd.concat(li, axis=0, ignore_index=True)\n",
    "new = df['body'].str.split(\"\\n\",expand =True)\n",
    "df['checkpoint'] = new[6]\n",
    "df['date'] = pd.to_datetime(df['date'])\n",
    "df['year'] = df['date'].dt.year\n",
    "df['week'] = df['date'].dt.week\n",
    "df['month'] = df['date'].dt.month\n",
    "f1 = df.title.str.split(\"for\", expand=True)\n",
    "df['module'] = f1[2]\n",
    "rp = df['repository_url'].str.split(\"Ed/\", expand = True)\n",
    "df['domain'] = rp[1]\n",
    "print(df.shape)\n",
    "df"
   ]
  },
  {
   "cell_type": "code",
   "execution_count": 108,
   "metadata": {},
   "outputs": [
    {
     "output_type": "execute_result",
     "data": {
      "text/plain": [
       "                                      domain  \\\n",
       "0      uxui-programs                           \n",
       "1      uxui-programs                           \n",
       "2      uxui-programs                           \n",
       "3      uxui-programs                           \n",
       "4      uxui-programs                           \n",
       "...              ...                           \n",
       "10611  technical-project-management-programs   \n",
       "10612  technical-project-management-programs   \n",
       "10613  technical-project-management-programs   \n",
       "10614  technical-project-management-programs   \n",
       "10615  technical-project-management-programs   \n",
       "\n",
       "                                                                          checkpoint  \\\n",
       "0      NaN                                                                             \n",
       "1      Live URL: https://courses.thinkful.com/uxui-sp-vis-i-v1/checkpoint/5            \n",
       "2      Live URL: https://courses.thinkful.com/uxui-uxi-discover-v1/checkpoint/4        \n",
       "3      Live URL: https://courses.thinkful.com/uxui-uxi-develop-v1/checkpoint/4         \n",
       "4      NaN                                                                             \n",
       "...    ...                                                                             \n",
       "10611  Live URL: https://courses.thinkful.com/tpm-project-life-cycle-v1/checkpoint/1   \n",
       "10612  NaN                                                                             \n",
       "10613  NaN                                                                             \n",
       "10614  NaN                                                                             \n",
       "10615  NaN                                                                             \n",
       "\n",
       "      module   state  \n",
       "0      None   closed  \n",
       "1      None   open    \n",
       "2      None   open    \n",
       "3      None   open    \n",
       "4      None   closed  \n",
       "...     ...      ...  \n",
       "10611  None   open    \n",
       "10612  None   closed  \n",
       "10613  None   closed  \n",
       "10614  None   closed  \n",
       "10615  None   closed  \n",
       "\n",
       "[10616 rows x 4 columns]"
      ],
      "text/html": "<div>\n<style scoped>\n    .dataframe tbody tr th:only-of-type {\n        vertical-align: middle;\n    }\n\n    .dataframe tbody tr th {\n        vertical-align: top;\n    }\n\n    .dataframe thead th {\n        text-align: right;\n    }\n</style>\n<table border=\"1\" class=\"dataframe\">\n  <thead>\n    <tr style=\"text-align: right;\">\n      <th></th>\n      <th>domain</th>\n      <th>checkpoint</th>\n      <th>module</th>\n      <th>state</th>\n    </tr>\n  </thead>\n  <tbody>\n    <tr>\n      <th>0</th>\n      <td>uxui-programs</td>\n      <td>NaN</td>\n      <td>None</td>\n      <td>closed</td>\n    </tr>\n    <tr>\n      <th>1</th>\n      <td>uxui-programs</td>\n      <td>Live URL: https://courses.thinkful.com/uxui-sp-vis-i-v1/checkpoint/5</td>\n      <td>None</td>\n      <td>open</td>\n    </tr>\n    <tr>\n      <th>2</th>\n      <td>uxui-programs</td>\n      <td>Live URL: https://courses.thinkful.com/uxui-uxi-discover-v1/checkpoint/4</td>\n      <td>None</td>\n      <td>open</td>\n    </tr>\n    <tr>\n      <th>3</th>\n      <td>uxui-programs</td>\n      <td>Live URL: https://courses.thinkful.com/uxui-uxi-develop-v1/checkpoint/4</td>\n      <td>None</td>\n      <td>open</td>\n    </tr>\n    <tr>\n      <th>4</th>\n      <td>uxui-programs</td>\n      <td>NaN</td>\n      <td>None</td>\n      <td>closed</td>\n    </tr>\n    <tr>\n      <th>...</th>\n      <td>...</td>\n      <td>...</td>\n      <td>...</td>\n      <td>...</td>\n    </tr>\n    <tr>\n      <th>10611</th>\n      <td>technical-project-management-programs</td>\n      <td>Live URL: https://courses.thinkful.com/tpm-project-life-cycle-v1/checkpoint/1</td>\n      <td>None</td>\n      <td>open</td>\n    </tr>\n    <tr>\n      <th>10612</th>\n      <td>technical-project-management-programs</td>\n      <td>NaN</td>\n      <td>None</td>\n      <td>closed</td>\n    </tr>\n    <tr>\n      <th>10613</th>\n      <td>technical-project-management-programs</td>\n      <td>NaN</td>\n      <td>None</td>\n      <td>closed</td>\n    </tr>\n    <tr>\n      <th>10614</th>\n      <td>technical-project-management-programs</td>\n      <td>NaN</td>\n      <td>None</td>\n      <td>closed</td>\n    </tr>\n    <tr>\n      <th>10615</th>\n      <td>technical-project-management-programs</td>\n      <td>NaN</td>\n      <td>None</td>\n      <td>closed</td>\n    </tr>\n  </tbody>\n</table>\n<p>10616 rows × 4 columns</p>\n</div>"
     },
     "metadata": {},
     "execution_count": 108
    }
   ],
   "source": [
    "#select columns\n",
    "subset = df[['domain','checkpoint','module','state']]\n",
    "subset"
   ]
  },
  {
   "cell_type": "code",
   "execution_count": 109,
   "metadata": {},
   "outputs": [
    {
     "output_type": "execute_result",
     "data": {
      "text/plain": [
       "                                      domain  \\\n",
       "0      uxui-programs                           \n",
       "1      uxui-programs                           \n",
       "2      uxui-programs                           \n",
       "3      uxui-programs                           \n",
       "4      uxui-programs                           \n",
       "...              ...                           \n",
       "10611  technical-project-management-programs   \n",
       "10612  technical-project-management-programs   \n",
       "10613  technical-project-management-programs   \n",
       "10614  technical-project-management-programs   \n",
       "10615  technical-project-management-programs   \n",
       "\n",
       "                                                                          checkpoint  \\\n",
       "0      NaN                                                                             \n",
       "1      Live URL: https://courses.thinkful.com/uxui-sp-vis-i-v1/checkpoint/5            \n",
       "2      Live URL: https://courses.thinkful.com/uxui-uxi-discover-v1/checkpoint/4        \n",
       "3      Live URL: https://courses.thinkful.com/uxui-uxi-develop-v1/checkpoint/4         \n",
       "4      NaN                                                                             \n",
       "...    ...                                                                             \n",
       "10611  Live URL: https://courses.thinkful.com/tpm-project-life-cycle-v1/checkpoint/1   \n",
       "10612  NaN                                                                             \n",
       "10613  NaN                                                                             \n",
       "10614  NaN                                                                             \n",
       "10615  NaN                                                                             \n",
       "\n",
       "      module   state  \n",
       "0      None   closed  \n",
       "1      None   open    \n",
       "2      None   open    \n",
       "3      None   open    \n",
       "4      None   closed  \n",
       "...     ...      ...  \n",
       "10611  None   open    \n",
       "10612  None   closed  \n",
       "10613  None   closed  \n",
       "10614  None   closed  \n",
       "10615  None   closed  \n",
       "\n",
       "[10616 rows x 4 columns]"
      ],
      "text/html": "<div>\n<style scoped>\n    .dataframe tbody tr th:only-of-type {\n        vertical-align: middle;\n    }\n\n    .dataframe tbody tr th {\n        vertical-align: top;\n    }\n\n    .dataframe thead th {\n        text-align: right;\n    }\n</style>\n<table border=\"1\" class=\"dataframe\">\n  <thead>\n    <tr style=\"text-align: right;\">\n      <th></th>\n      <th>domain</th>\n      <th>checkpoint</th>\n      <th>module</th>\n      <th>state</th>\n    </tr>\n  </thead>\n  <tbody>\n    <tr>\n      <th>0</th>\n      <td>uxui-programs</td>\n      <td>NaN</td>\n      <td>None</td>\n      <td>closed</td>\n    </tr>\n    <tr>\n      <th>1</th>\n      <td>uxui-programs</td>\n      <td>Live URL: https://courses.thinkful.com/uxui-sp-vis-i-v1/checkpoint/5</td>\n      <td>None</td>\n      <td>open</td>\n    </tr>\n    <tr>\n      <th>2</th>\n      <td>uxui-programs</td>\n      <td>Live URL: https://courses.thinkful.com/uxui-uxi-discover-v1/checkpoint/4</td>\n      <td>None</td>\n      <td>open</td>\n    </tr>\n    <tr>\n      <th>3</th>\n      <td>uxui-programs</td>\n      <td>Live URL: https://courses.thinkful.com/uxui-uxi-develop-v1/checkpoint/4</td>\n      <td>None</td>\n      <td>open</td>\n    </tr>\n    <tr>\n      <th>4</th>\n      <td>uxui-programs</td>\n      <td>NaN</td>\n      <td>None</td>\n      <td>closed</td>\n    </tr>\n    <tr>\n      <th>...</th>\n      <td>...</td>\n      <td>...</td>\n      <td>...</td>\n      <td>...</td>\n    </tr>\n    <tr>\n      <th>10611</th>\n      <td>technical-project-management-programs</td>\n      <td>Live URL: https://courses.thinkful.com/tpm-project-life-cycle-v1/checkpoint/1</td>\n      <td>None</td>\n      <td>open</td>\n    </tr>\n    <tr>\n      <th>10612</th>\n      <td>technical-project-management-programs</td>\n      <td>NaN</td>\n      <td>None</td>\n      <td>closed</td>\n    </tr>\n    <tr>\n      <th>10613</th>\n      <td>technical-project-management-programs</td>\n      <td>NaN</td>\n      <td>None</td>\n      <td>closed</td>\n    </tr>\n    <tr>\n      <th>10614</th>\n      <td>technical-project-management-programs</td>\n      <td>NaN</td>\n      <td>None</td>\n      <td>closed</td>\n    </tr>\n    <tr>\n      <th>10615</th>\n      <td>technical-project-management-programs</td>\n      <td>NaN</td>\n      <td>None</td>\n      <td>closed</td>\n    </tr>\n  </tbody>\n</table>\n<p>10616 rows × 4 columns</p>\n</div>"
     },
     "metadata": {},
     "execution_count": 109
    }
   ],
   "source": [
    "#cleanup checkpoint column\n",
    "subset['checkpoint'] = subset['checkpoint'].map(lambda x: 'NaN' if pd.isnull(x) or 'https://courses.thinkful.com/' not in x else x)\n",
    "subset"
   ]
  },
  {
   "cell_type": "code",
   "execution_count": 118,
   "metadata": {},
   "outputs": [
    {
     "output_type": "execute_result",
     "data": {
      "text/plain": [
       "domain                                 state \n",
       "data-analytics-bootcamp                closed    1660\n",
       "                                       open      309 \n",
       "data-science                           closed    1692\n",
       "                                       open      115 \n",
       "digital-marketing-programs             closed    344 \n",
       "                                       open      3   \n",
       "product-management                     closed    112 \n",
       "                                       open      49  \n",
       "technical-project-management-programs  closed    83  \n",
       "                                       open      112 \n",
       "uxui-programs                          closed    512 \n",
       "                                       open      414 \n",
       "web-dev-programs                       closed    4579\n",
       "                                       open      632 \n",
       "dtype: int64"
      ]
     },
     "metadata": {},
     "execution_count": 118
    }
   ],
   "source": [
    "subset.groupby(['domain','state']).size()"
   ]
  },
  {
   "cell_type": "code",
   "execution_count": 127,
   "metadata": {},
   "outputs": [
    {
     "output_type": "execute_result",
     "data": {
      "text/plain": [
       "                       domain  \\\n",
       "0     data-analytics-bootcamp   \n",
       "1     data-analytics-bootcamp   \n",
       "2     data-analytics-bootcamp   \n",
       "3     data-analytics-bootcamp   \n",
       "4     data-analytics-bootcamp   \n",
       "...                       ...   \n",
       "1675  web-dev-programs          \n",
       "1676  web-dev-programs          \n",
       "1677  web-dev-programs          \n",
       "1678  web-dev-programs          \n",
       "1679  web-dev-programs          \n",
       "\n",
       "                                                                                    checkpoint  \\\n",
       "0     Live URL: https://courses.thinkful.com/da-careers-job-searching-v2/checkpoint/2            \n",
       "1     Live URL: https://courses.thinkful.com/da-careers-job-searching-v2/checkpoint/2            \n",
       "2     Live URL: https://courses.thinkful.com/da-careers-job-searching-v2/checkpoint/3            \n",
       "3     Live URL: https://courses.thinkful.com/da-careers-networking-v2/checkpoint/2               \n",
       "4     Live URL: https://courses.thinkful.com/da-careers-networking-v2/checkpoint/5               \n",
       "...                                                                            ...               \n",
       "1675  Live URL: https://courses.thinkful.com/zid-pf-javascript-on-your-machine-v1/checkpoint/5   \n",
       "1676  Live URL: https://courses.thinkful.com/zid-pf-javascript-on-your-machine-v1/checkpoint/5   \n",
       "1677  Live URL: https://courses.thinkful.com/zid-pf-javascript-on-your-machine-v1/checkpoint/8   \n",
       "1678  NaN                                                                                        \n",
       "1679  NaN                                                                                        \n",
       "\n",
       "       state     0  \n",
       "0     closed  1     \n",
       "1     open    1     \n",
       "2     closed  1     \n",
       "3     closed  2     \n",
       "4     closed  1     \n",
       "...      ... ..     \n",
       "1675  closed  1     \n",
       "1676  open    3     \n",
       "1677  open    2     \n",
       "1678  closed  1503  \n",
       "1679  open    94    \n",
       "\n",
       "[1680 rows x 4 columns]"
      ],
      "text/html": "<div>\n<style scoped>\n    .dataframe tbody tr th:only-of-type {\n        vertical-align: middle;\n    }\n\n    .dataframe tbody tr th {\n        vertical-align: top;\n    }\n\n    .dataframe thead th {\n        text-align: right;\n    }\n</style>\n<table border=\"1\" class=\"dataframe\">\n  <thead>\n    <tr style=\"text-align: right;\">\n      <th></th>\n      <th>domain</th>\n      <th>checkpoint</th>\n      <th>state</th>\n      <th>0</th>\n    </tr>\n  </thead>\n  <tbody>\n    <tr>\n      <th>0</th>\n      <td>data-analytics-bootcamp</td>\n      <td>Live URL: https://courses.thinkful.com/da-careers-job-searching-v2/checkpoint/2</td>\n      <td>closed</td>\n      <td>1</td>\n    </tr>\n    <tr>\n      <th>1</th>\n      <td>data-analytics-bootcamp</td>\n      <td>Live URL: https://courses.thinkful.com/da-careers-job-searching-v2/checkpoint/2</td>\n      <td>open</td>\n      <td>1</td>\n    </tr>\n    <tr>\n      <th>2</th>\n      <td>data-analytics-bootcamp</td>\n      <td>Live URL: https://courses.thinkful.com/da-careers-job-searching-v2/checkpoint/3</td>\n      <td>closed</td>\n      <td>1</td>\n    </tr>\n    <tr>\n      <th>3</th>\n      <td>data-analytics-bootcamp</td>\n      <td>Live URL: https://courses.thinkful.com/da-careers-networking-v2/checkpoint/2</td>\n      <td>closed</td>\n      <td>2</td>\n    </tr>\n    <tr>\n      <th>4</th>\n      <td>data-analytics-bootcamp</td>\n      <td>Live URL: https://courses.thinkful.com/da-careers-networking-v2/checkpoint/5</td>\n      <td>closed</td>\n      <td>1</td>\n    </tr>\n    <tr>\n      <th>...</th>\n      <td>...</td>\n      <td>...</td>\n      <td>...</td>\n      <td>...</td>\n    </tr>\n    <tr>\n      <th>1675</th>\n      <td>web-dev-programs</td>\n      <td>Live URL: https://courses.thinkful.com/zid-pf-javascript-on-your-machine-v1/checkpoint/5</td>\n      <td>closed</td>\n      <td>1</td>\n    </tr>\n    <tr>\n      <th>1676</th>\n      <td>web-dev-programs</td>\n      <td>Live URL: https://courses.thinkful.com/zid-pf-javascript-on-your-machine-v1/checkpoint/5</td>\n      <td>open</td>\n      <td>3</td>\n    </tr>\n    <tr>\n      <th>1677</th>\n      <td>web-dev-programs</td>\n      <td>Live URL: https://courses.thinkful.com/zid-pf-javascript-on-your-machine-v1/checkpoint/8</td>\n      <td>open</td>\n      <td>2</td>\n    </tr>\n    <tr>\n      <th>1678</th>\n      <td>web-dev-programs</td>\n      <td>NaN</td>\n      <td>closed</td>\n      <td>1503</td>\n    </tr>\n    <tr>\n      <th>1679</th>\n      <td>web-dev-programs</td>\n      <td>NaN</td>\n      <td>open</td>\n      <td>94</td>\n    </tr>\n  </tbody>\n</table>\n<p>1680 rows × 4 columns</p>\n</div>"
     },
     "metadata": {},
     "execution_count": 127
    }
   ],
   "source": [
    "outdf=pd.DataFrame(subset.groupby(['domain','checkpoint','state']).size().reset_index())\n",
    "outdf"
   ]
  },
  {
   "cell_type": "code",
   "execution_count": 129,
   "metadata": {},
   "outputs": [
    {
     "output_type": "execute_result",
     "data": {
      "text/plain": [
       "                                      domain  \\\n",
       "0      uxui-programs                           \n",
       "1      uxui-programs                           \n",
       "2      uxui-programs                           \n",
       "3      uxui-programs                           \n",
       "4      uxui-programs                           \n",
       "...              ...                           \n",
       "10611  technical-project-management-programs   \n",
       "10612  technical-project-management-programs   \n",
       "10613  technical-project-management-programs   \n",
       "10614  technical-project-management-programs   \n",
       "10615  technical-project-management-programs   \n",
       "\n",
       "                                                                          checkpoint  \\\n",
       "0      NaN                                                                             \n",
       "1      Live URL: https://courses.thinkful.com/uxui-sp-vis-i-v1/checkpoint/5            \n",
       "2      Live URL: https://courses.thinkful.com/uxui-uxi-discover-v1/checkpoint/4        \n",
       "3      Live URL: https://courses.thinkful.com/uxui-uxi-develop-v1/checkpoint/4         \n",
       "4      NaN                                                                             \n",
       "...    ...                                                                             \n",
       "10611  Live URL: https://courses.thinkful.com/tpm-project-life-cycle-v1/checkpoint/1   \n",
       "10612  NaN                                                                             \n",
       "10613  NaN                                                                             \n",
       "10614  NaN                                                                             \n",
       "10615  NaN                                                                             \n",
       "\n",
       "       closed  open  \n",
       "0      1       0     \n",
       "1      0       1     \n",
       "2      0       1     \n",
       "3      0       1     \n",
       "4      1       0     \n",
       "...   ..      ..     \n",
       "10611  0       1     \n",
       "10612  1       0     \n",
       "10613  1       0     \n",
       "10614  1       0     \n",
       "10615  1       0     \n",
       "\n",
       "[10616 rows x 4 columns]"
      ],
      "text/html": "<div>\n<style scoped>\n    .dataframe tbody tr th:only-of-type {\n        vertical-align: middle;\n    }\n\n    .dataframe tbody tr th {\n        vertical-align: top;\n    }\n\n    .dataframe thead th {\n        text-align: right;\n    }\n</style>\n<table border=\"1\" class=\"dataframe\">\n  <thead>\n    <tr style=\"text-align: right;\">\n      <th></th>\n      <th>domain</th>\n      <th>checkpoint</th>\n      <th>closed</th>\n      <th>open</th>\n    </tr>\n  </thead>\n  <tbody>\n    <tr>\n      <th>0</th>\n      <td>uxui-programs</td>\n      <td>NaN</td>\n      <td>1</td>\n      <td>0</td>\n    </tr>\n    <tr>\n      <th>1</th>\n      <td>uxui-programs</td>\n      <td>Live URL: https://courses.thinkful.com/uxui-sp-vis-i-v1/checkpoint/5</td>\n      <td>0</td>\n      <td>1</td>\n    </tr>\n    <tr>\n      <th>2</th>\n      <td>uxui-programs</td>\n      <td>Live URL: https://courses.thinkful.com/uxui-uxi-discover-v1/checkpoint/4</td>\n      <td>0</td>\n      <td>1</td>\n    </tr>\n    <tr>\n      <th>3</th>\n      <td>uxui-programs</td>\n      <td>Live URL: https://courses.thinkful.com/uxui-uxi-develop-v1/checkpoint/4</td>\n      <td>0</td>\n      <td>1</td>\n    </tr>\n    <tr>\n      <th>4</th>\n      <td>uxui-programs</td>\n      <td>NaN</td>\n      <td>1</td>\n      <td>0</td>\n    </tr>\n    <tr>\n      <th>...</th>\n      <td>...</td>\n      <td>...</td>\n      <td>...</td>\n      <td>...</td>\n    </tr>\n    <tr>\n      <th>10611</th>\n      <td>technical-project-management-programs</td>\n      <td>Live URL: https://courses.thinkful.com/tpm-project-life-cycle-v1/checkpoint/1</td>\n      <td>0</td>\n      <td>1</td>\n    </tr>\n    <tr>\n      <th>10612</th>\n      <td>technical-project-management-programs</td>\n      <td>NaN</td>\n      <td>1</td>\n      <td>0</td>\n    </tr>\n    <tr>\n      <th>10613</th>\n      <td>technical-project-management-programs</td>\n      <td>NaN</td>\n      <td>1</td>\n      <td>0</td>\n    </tr>\n    <tr>\n      <th>10614</th>\n      <td>technical-project-management-programs</td>\n      <td>NaN</td>\n      <td>1</td>\n      <td>0</td>\n    </tr>\n    <tr>\n      <th>10615</th>\n      <td>technical-project-management-programs</td>\n      <td>NaN</td>\n      <td>1</td>\n      <td>0</td>\n    </tr>\n  </tbody>\n</table>\n<p>10616 rows × 4 columns</p>\n</div>"
     },
     "metadata": {},
     "execution_count": 129
    }
   ],
   "source": [
    "sub2 = subset.drop(['module','state'], axis =1).merge(pd.get_dummies(subset['state']),right_index=True, left_index=True)\n",
    "sub2"
   ]
  },
  {
   "cell_type": "code",
   "execution_count": 137,
   "metadata": {},
   "outputs": [
    {
     "output_type": "execute_result",
     "data": {
      "text/plain": [
       "                                  domain  domain_open  domain_closed\n",
       "0  data-analytics-bootcamp                309.0        1660.0       \n",
       "1  data-science                           115.0        1692.0       \n",
       "2  digital-marketing-programs             3.0          344.0        \n",
       "3  product-management                     49.0         112.0        \n",
       "4  technical-project-management-programs  112.0        83.0         \n",
       "5  uxui-programs                          414.0        512.0        \n",
       "6  web-dev-programs                       632.0        4579.0       "
      ],
      "text/html": "<div>\n<style scoped>\n    .dataframe tbody tr th:only-of-type {\n        vertical-align: middle;\n    }\n\n    .dataframe tbody tr th {\n        vertical-align: top;\n    }\n\n    .dataframe thead th {\n        text-align: right;\n    }\n</style>\n<table border=\"1\" class=\"dataframe\">\n  <thead>\n    <tr style=\"text-align: right;\">\n      <th></th>\n      <th>domain</th>\n      <th>domain_open</th>\n      <th>domain_closed</th>\n    </tr>\n  </thead>\n  <tbody>\n    <tr>\n      <th>0</th>\n      <td>data-analytics-bootcamp</td>\n      <td>309.0</td>\n      <td>1660.0</td>\n    </tr>\n    <tr>\n      <th>1</th>\n      <td>data-science</td>\n      <td>115.0</td>\n      <td>1692.0</td>\n    </tr>\n    <tr>\n      <th>2</th>\n      <td>digital-marketing-programs</td>\n      <td>3.0</td>\n      <td>344.0</td>\n    </tr>\n    <tr>\n      <th>3</th>\n      <td>product-management</td>\n      <td>49.0</td>\n      <td>112.0</td>\n    </tr>\n    <tr>\n      <th>4</th>\n      <td>technical-project-management-programs</td>\n      <td>112.0</td>\n      <td>83.0</td>\n    </tr>\n    <tr>\n      <th>5</th>\n      <td>uxui-programs</td>\n      <td>414.0</td>\n      <td>512.0</td>\n    </tr>\n    <tr>\n      <th>6</th>\n      <td>web-dev-programs</td>\n      <td>632.0</td>\n      <td>4579.0</td>\n    </tr>\n  </tbody>\n</table>\n</div>"
     },
     "metadata": {},
     "execution_count": 137
    }
   ],
   "source": [
    "dd = pd.DataFrame(sub2.groupby(['domain'])['open','closed'].agg('sum').reset_index())\n",
    "dd.columns = ['domain','domain_open','domain_closed']\n",
    "dd"
   ]
  },
  {
   "cell_type": "code",
   "execution_count": 134,
   "metadata": {},
   "outputs": [
    {
     "output_type": "execute_result",
     "data": {
      "text/plain": [
       "                       domain  \\\n",
       "0     data-analytics-bootcamp   \n",
       "1     data-analytics-bootcamp   \n",
       "2     data-analytics-bootcamp   \n",
       "3     data-analytics-bootcamp   \n",
       "4     data-analytics-bootcamp   \n",
       "...                       ...   \n",
       "1253  web-dev-programs          \n",
       "1254  web-dev-programs          \n",
       "1255  web-dev-programs          \n",
       "1256  web-dev-programs          \n",
       "1257  web-dev-programs          \n",
       "\n",
       "                                                                                                                                                  checkpoint  \\\n",
       "0     Live URL: https://courses.thinkful.com/da-careers-job-searching-v2/checkpoint/2                                                                          \n",
       "1     Live URL: https://courses.thinkful.com/da-careers-job-searching-v2/checkpoint/3                                                                          \n",
       "2     Live URL: https://courses.thinkful.com/da-careers-networking-v2/checkpoint/2                                                                             \n",
       "3     Live URL: https://courses.thinkful.com/da-careers-networking-v2/checkpoint/5                                                                             \n",
       "4     Live URL: https://courses.thinkful.com/da-careers-networking-v2/uuid/878f5717-8256-44f7-bb49-b5c1c52a5c32?course_code=DATA_ANALYTICS-301#review-783918   \n",
       "...                                                                                                                                                      ...   \n",
       "1253  Live URL: https://courses.thinkful.com/zid-pf-javascript-foundations-v1/checkpoint/8                                                                     \n",
       "1254  Live URL: https://courses.thinkful.com/zid-pf-javascript-on-your-machine-v1/checkpoint/2                                                                 \n",
       "1255  Live URL: https://courses.thinkful.com/zid-pf-javascript-on-your-machine-v1/checkpoint/5                                                                 \n",
       "1256  Live URL: https://courses.thinkful.com/zid-pf-javascript-on-your-machine-v1/checkpoint/8                                                                 \n",
       "1257  NaN                                                                                                                                                      \n",
       "\n",
       "      open  closed  \n",
       "0     1.0   1.0     \n",
       "1     0.0   1.0     \n",
       "2     0.0   2.0     \n",
       "3     0.0   1.0     \n",
       "4     1.0   0.0     \n",
       "...   ...   ...     \n",
       "1253  0.0   1.0     \n",
       "1254  2.0   0.0     \n",
       "1255  3.0   1.0     \n",
       "1256  2.0   0.0     \n",
       "1257  94.0  1503.0  \n",
       "\n",
       "[1258 rows x 4 columns]"
      ],
      "text/html": "<div>\n<style scoped>\n    .dataframe tbody tr th:only-of-type {\n        vertical-align: middle;\n    }\n\n    .dataframe tbody tr th {\n        vertical-align: top;\n    }\n\n    .dataframe thead th {\n        text-align: right;\n    }\n</style>\n<table border=\"1\" class=\"dataframe\">\n  <thead>\n    <tr style=\"text-align: right;\">\n      <th></th>\n      <th>domain</th>\n      <th>checkpoint</th>\n      <th>open</th>\n      <th>closed</th>\n    </tr>\n  </thead>\n  <tbody>\n    <tr>\n      <th>0</th>\n      <td>data-analytics-bootcamp</td>\n      <td>Live URL: https://courses.thinkful.com/da-careers-job-searching-v2/checkpoint/2</td>\n      <td>1.0</td>\n      <td>1.0</td>\n    </tr>\n    <tr>\n      <th>1</th>\n      <td>data-analytics-bootcamp</td>\n      <td>Live URL: https://courses.thinkful.com/da-careers-job-searching-v2/checkpoint/3</td>\n      <td>0.0</td>\n      <td>1.0</td>\n    </tr>\n    <tr>\n      <th>2</th>\n      <td>data-analytics-bootcamp</td>\n      <td>Live URL: https://courses.thinkful.com/da-careers-networking-v2/checkpoint/2</td>\n      <td>0.0</td>\n      <td>2.0</td>\n    </tr>\n    <tr>\n      <th>3</th>\n      <td>data-analytics-bootcamp</td>\n      <td>Live URL: https://courses.thinkful.com/da-careers-networking-v2/checkpoint/5</td>\n      <td>0.0</td>\n      <td>1.0</td>\n    </tr>\n    <tr>\n      <th>4</th>\n      <td>data-analytics-bootcamp</td>\n      <td>Live URL: https://courses.thinkful.com/da-careers-networking-v2/uuid/878f5717-8256-44f7-bb49-b5c1c52a5c32?course_code=DATA_ANALYTICS-301#review-783918</td>\n      <td>1.0</td>\n      <td>0.0</td>\n    </tr>\n    <tr>\n      <th>...</th>\n      <td>...</td>\n      <td>...</td>\n      <td>...</td>\n      <td>...</td>\n    </tr>\n    <tr>\n      <th>1253</th>\n      <td>web-dev-programs</td>\n      <td>Live URL: https://courses.thinkful.com/zid-pf-javascript-foundations-v1/checkpoint/8</td>\n      <td>0.0</td>\n      <td>1.0</td>\n    </tr>\n    <tr>\n      <th>1254</th>\n      <td>web-dev-programs</td>\n      <td>Live URL: https://courses.thinkful.com/zid-pf-javascript-on-your-machine-v1/checkpoint/2</td>\n      <td>2.0</td>\n      <td>0.0</td>\n    </tr>\n    <tr>\n      <th>1255</th>\n      <td>web-dev-programs</td>\n      <td>Live URL: https://courses.thinkful.com/zid-pf-javascript-on-your-machine-v1/checkpoint/5</td>\n      <td>3.0</td>\n      <td>1.0</td>\n    </tr>\n    <tr>\n      <th>1256</th>\n      <td>web-dev-programs</td>\n      <td>Live URL: https://courses.thinkful.com/zid-pf-javascript-on-your-machine-v1/checkpoint/8</td>\n      <td>2.0</td>\n      <td>0.0</td>\n    </tr>\n    <tr>\n      <th>1257</th>\n      <td>web-dev-programs</td>\n      <td>NaN</td>\n      <td>94.0</td>\n      <td>1503.0</td>\n    </tr>\n  </tbody>\n</table>\n<p>1258 rows × 4 columns</p>\n</div>"
     },
     "metadata": {},
     "execution_count": 134
    }
   ],
   "source": [
    "outdf2 = pd.DataFrame(sub2.groupby(['domain','checkpoint'])['open','closed'].agg('sum').reset_index())\n",
    "outdf2"
   ]
  },
  {
   "cell_type": "code",
   "execution_count": 139,
   "metadata": {},
   "outputs": [
    {
     "output_type": "execute_result",
     "data": {
      "text/plain": [
       "                       domain  \\\n",
       "0     data-analytics-bootcamp   \n",
       "1     data-analytics-bootcamp   \n",
       "2     data-analytics-bootcamp   \n",
       "3     data-analytics-bootcamp   \n",
       "4     data-analytics-bootcamp   \n",
       "...                       ...   \n",
       "1253  web-dev-programs          \n",
       "1254  web-dev-programs          \n",
       "1255  web-dev-programs          \n",
       "1256  web-dev-programs          \n",
       "1257  web-dev-programs          \n",
       "\n",
       "                                                                                                                                                  checkpoint  \\\n",
       "0     Live URL: https://courses.thinkful.com/da-careers-job-searching-v2/checkpoint/2                                                                          \n",
       "1     Live URL: https://courses.thinkful.com/da-careers-job-searching-v2/checkpoint/3                                                                          \n",
       "2     Live URL: https://courses.thinkful.com/da-careers-networking-v2/checkpoint/2                                                                             \n",
       "3     Live URL: https://courses.thinkful.com/da-careers-networking-v2/checkpoint/5                                                                             \n",
       "4     Live URL: https://courses.thinkful.com/da-careers-networking-v2/uuid/878f5717-8256-44f7-bb49-b5c1c52a5c32?course_code=DATA_ANALYTICS-301#review-783918   \n",
       "...                                                                                                                                                      ...   \n",
       "1253  Live URL: https://courses.thinkful.com/zid-pf-javascript-foundations-v1/checkpoint/8                                                                     \n",
       "1254  Live URL: https://courses.thinkful.com/zid-pf-javascript-on-your-machine-v1/checkpoint/2                                                                 \n",
       "1255  Live URL: https://courses.thinkful.com/zid-pf-javascript-on-your-machine-v1/checkpoint/5                                                                 \n",
       "1256  Live URL: https://courses.thinkful.com/zid-pf-javascript-on-your-machine-v1/checkpoint/8                                                                 \n",
       "1257  NaN                                                                                                                                                      \n",
       "\n",
       "      open  closed   total  \n",
       "0     1.0   1.0     2.0     \n",
       "1     0.0   1.0     1.0     \n",
       "2     0.0   2.0     2.0     \n",
       "3     0.0   1.0     1.0     \n",
       "4     1.0   0.0     1.0     \n",
       "...   ...   ...     ...     \n",
       "1253  0.0   1.0     1.0     \n",
       "1254  2.0   0.0     2.0     \n",
       "1255  3.0   1.0     4.0     \n",
       "1256  2.0   0.0     2.0     \n",
       "1257  94.0  1503.0  1597.0  \n",
       "\n",
       "[1258 rows x 5 columns]"
      ],
      "text/html": "<div>\n<style scoped>\n    .dataframe tbody tr th:only-of-type {\n        vertical-align: middle;\n    }\n\n    .dataframe tbody tr th {\n        vertical-align: top;\n    }\n\n    .dataframe thead th {\n        text-align: right;\n    }\n</style>\n<table border=\"1\" class=\"dataframe\">\n  <thead>\n    <tr style=\"text-align: right;\">\n      <th></th>\n      <th>domain</th>\n      <th>checkpoint</th>\n      <th>open</th>\n      <th>closed</th>\n      <th>total</th>\n    </tr>\n  </thead>\n  <tbody>\n    <tr>\n      <th>0</th>\n      <td>data-analytics-bootcamp</td>\n      <td>Live URL: https://courses.thinkful.com/da-careers-job-searching-v2/checkpoint/2</td>\n      <td>1.0</td>\n      <td>1.0</td>\n      <td>2.0</td>\n    </tr>\n    <tr>\n      <th>1</th>\n      <td>data-analytics-bootcamp</td>\n      <td>Live URL: https://courses.thinkful.com/da-careers-job-searching-v2/checkpoint/3</td>\n      <td>0.0</td>\n      <td>1.0</td>\n      <td>1.0</td>\n    </tr>\n    <tr>\n      <th>2</th>\n      <td>data-analytics-bootcamp</td>\n      <td>Live URL: https://courses.thinkful.com/da-careers-networking-v2/checkpoint/2</td>\n      <td>0.0</td>\n      <td>2.0</td>\n      <td>2.0</td>\n    </tr>\n    <tr>\n      <th>3</th>\n      <td>data-analytics-bootcamp</td>\n      <td>Live URL: https://courses.thinkful.com/da-careers-networking-v2/checkpoint/5</td>\n      <td>0.0</td>\n      <td>1.0</td>\n      <td>1.0</td>\n    </tr>\n    <tr>\n      <th>4</th>\n      <td>data-analytics-bootcamp</td>\n      <td>Live URL: https://courses.thinkful.com/da-careers-networking-v2/uuid/878f5717-8256-44f7-bb49-b5c1c52a5c32?course_code=DATA_ANALYTICS-301#review-783918</td>\n      <td>1.0</td>\n      <td>0.0</td>\n      <td>1.0</td>\n    </tr>\n    <tr>\n      <th>...</th>\n      <td>...</td>\n      <td>...</td>\n      <td>...</td>\n      <td>...</td>\n      <td>...</td>\n    </tr>\n    <tr>\n      <th>1253</th>\n      <td>web-dev-programs</td>\n      <td>Live URL: https://courses.thinkful.com/zid-pf-javascript-foundations-v1/checkpoint/8</td>\n      <td>0.0</td>\n      <td>1.0</td>\n      <td>1.0</td>\n    </tr>\n    <tr>\n      <th>1254</th>\n      <td>web-dev-programs</td>\n      <td>Live URL: https://courses.thinkful.com/zid-pf-javascript-on-your-machine-v1/checkpoint/2</td>\n      <td>2.0</td>\n      <td>0.0</td>\n      <td>2.0</td>\n    </tr>\n    <tr>\n      <th>1255</th>\n      <td>web-dev-programs</td>\n      <td>Live URL: https://courses.thinkful.com/zid-pf-javascript-on-your-machine-v1/checkpoint/5</td>\n      <td>3.0</td>\n      <td>1.0</td>\n      <td>4.0</td>\n    </tr>\n    <tr>\n      <th>1256</th>\n      <td>web-dev-programs</td>\n      <td>Live URL: https://courses.thinkful.com/zid-pf-javascript-on-your-machine-v1/checkpoint/8</td>\n      <td>2.0</td>\n      <td>0.0</td>\n      <td>2.0</td>\n    </tr>\n    <tr>\n      <th>1257</th>\n      <td>web-dev-programs</td>\n      <td>NaN</td>\n      <td>94.0</td>\n      <td>1503.0</td>\n      <td>1597.0</td>\n    </tr>\n  </tbody>\n</table>\n<p>1258 rows × 5 columns</p>\n</div>"
     },
     "metadata": {},
     "execution_count": 139
    }
   ],
   "source": [
    "outdf2['total'] = outdf2['open'] + outdf2['closed']\n",
    "outdf2"
   ]
  },
  {
   "cell_type": "code",
   "execution_count": 141,
   "metadata": {},
   "outputs": [
    {
     "output_type": "execute_result",
     "data": {
      "text/plain": [
       "                       domain  domain_total_open  domain_total_closed  \\\n",
       "0     data-analytics-bootcamp  309.0              1660.0                \n",
       "1     data-analytics-bootcamp  309.0              1660.0                \n",
       "2     data-analytics-bootcamp  309.0              1660.0                \n",
       "3     data-analytics-bootcamp  309.0              1660.0                \n",
       "4     data-analytics-bootcamp  309.0              1660.0                \n",
       "...                       ...    ...                 ...                \n",
       "1253  web-dev-programs         632.0              4579.0                \n",
       "1254  web-dev-programs         632.0              4579.0                \n",
       "1255  web-dev-programs         632.0              4579.0                \n",
       "1256  web-dev-programs         632.0              4579.0                \n",
       "1257  web-dev-programs         632.0              4579.0                \n",
       "\n",
       "                                                                                                                                                  checkpoint  \\\n",
       "0     Live URL: https://courses.thinkful.com/da-careers-job-searching-v2/checkpoint/2                                                                          \n",
       "1     Live URL: https://courses.thinkful.com/da-careers-job-searching-v2/checkpoint/3                                                                          \n",
       "2     Live URL: https://courses.thinkful.com/da-careers-networking-v2/checkpoint/2                                                                             \n",
       "3     Live URL: https://courses.thinkful.com/da-careers-networking-v2/checkpoint/5                                                                             \n",
       "4     Live URL: https://courses.thinkful.com/da-careers-networking-v2/uuid/878f5717-8256-44f7-bb49-b5c1c52a5c32?course_code=DATA_ANALYTICS-301#review-783918   \n",
       "...                                                                                                                                                      ...   \n",
       "1253  Live URL: https://courses.thinkful.com/zid-pf-javascript-foundations-v1/checkpoint/8                                                                     \n",
       "1254  Live URL: https://courses.thinkful.com/zid-pf-javascript-on-your-machine-v1/checkpoint/2                                                                 \n",
       "1255  Live URL: https://courses.thinkful.com/zid-pf-javascript-on-your-machine-v1/checkpoint/5                                                                 \n",
       "1256  Live URL: https://courses.thinkful.com/zid-pf-javascript-on-your-machine-v1/checkpoint/8                                                                 \n",
       "1257  NaN                                                                                                                                                      \n",
       "\n",
       "      checkpoint_open  checkpoint_closed  checkpoint_total  \n",
       "0     1.0              1.0                2.0               \n",
       "1     0.0              1.0                1.0               \n",
       "2     0.0              2.0                2.0               \n",
       "3     0.0              1.0                1.0               \n",
       "4     1.0              0.0                1.0               \n",
       "...   ...              ...                ...               \n",
       "1253  0.0              1.0                1.0               \n",
       "1254  2.0              0.0                2.0               \n",
       "1255  3.0              1.0                4.0               \n",
       "1256  2.0              0.0                2.0               \n",
       "1257  94.0             1503.0             1597.0            \n",
       "\n",
       "[1258 rows x 7 columns]"
      ],
      "text/html": "<div>\n<style scoped>\n    .dataframe tbody tr th:only-of-type {\n        vertical-align: middle;\n    }\n\n    .dataframe tbody tr th {\n        vertical-align: top;\n    }\n\n    .dataframe thead th {\n        text-align: right;\n    }\n</style>\n<table border=\"1\" class=\"dataframe\">\n  <thead>\n    <tr style=\"text-align: right;\">\n      <th></th>\n      <th>domain</th>\n      <th>domain_total_open</th>\n      <th>domain_total_closed</th>\n      <th>checkpoint</th>\n      <th>checkpoint_open</th>\n      <th>checkpoint_closed</th>\n      <th>checkpoint_total</th>\n    </tr>\n  </thead>\n  <tbody>\n    <tr>\n      <th>0</th>\n      <td>data-analytics-bootcamp</td>\n      <td>309.0</td>\n      <td>1660.0</td>\n      <td>Live URL: https://courses.thinkful.com/da-careers-job-searching-v2/checkpoint/2</td>\n      <td>1.0</td>\n      <td>1.0</td>\n      <td>2.0</td>\n    </tr>\n    <tr>\n      <th>1</th>\n      <td>data-analytics-bootcamp</td>\n      <td>309.0</td>\n      <td>1660.0</td>\n      <td>Live URL: https://courses.thinkful.com/da-careers-job-searching-v2/checkpoint/3</td>\n      <td>0.0</td>\n      <td>1.0</td>\n      <td>1.0</td>\n    </tr>\n    <tr>\n      <th>2</th>\n      <td>data-analytics-bootcamp</td>\n      <td>309.0</td>\n      <td>1660.0</td>\n      <td>Live URL: https://courses.thinkful.com/da-careers-networking-v2/checkpoint/2</td>\n      <td>0.0</td>\n      <td>2.0</td>\n      <td>2.0</td>\n    </tr>\n    <tr>\n      <th>3</th>\n      <td>data-analytics-bootcamp</td>\n      <td>309.0</td>\n      <td>1660.0</td>\n      <td>Live URL: https://courses.thinkful.com/da-careers-networking-v2/checkpoint/5</td>\n      <td>0.0</td>\n      <td>1.0</td>\n      <td>1.0</td>\n    </tr>\n    <tr>\n      <th>4</th>\n      <td>data-analytics-bootcamp</td>\n      <td>309.0</td>\n      <td>1660.0</td>\n      <td>Live URL: https://courses.thinkful.com/da-careers-networking-v2/uuid/878f5717-8256-44f7-bb49-b5c1c52a5c32?course_code=DATA_ANALYTICS-301#review-783918</td>\n      <td>1.0</td>\n      <td>0.0</td>\n      <td>1.0</td>\n    </tr>\n    <tr>\n      <th>...</th>\n      <td>...</td>\n      <td>...</td>\n      <td>...</td>\n      <td>...</td>\n      <td>...</td>\n      <td>...</td>\n      <td>...</td>\n    </tr>\n    <tr>\n      <th>1253</th>\n      <td>web-dev-programs</td>\n      <td>632.0</td>\n      <td>4579.0</td>\n      <td>Live URL: https://courses.thinkful.com/zid-pf-javascript-foundations-v1/checkpoint/8</td>\n      <td>0.0</td>\n      <td>1.0</td>\n      <td>1.0</td>\n    </tr>\n    <tr>\n      <th>1254</th>\n      <td>web-dev-programs</td>\n      <td>632.0</td>\n      <td>4579.0</td>\n      <td>Live URL: https://courses.thinkful.com/zid-pf-javascript-on-your-machine-v1/checkpoint/2</td>\n      <td>2.0</td>\n      <td>0.0</td>\n      <td>2.0</td>\n    </tr>\n    <tr>\n      <th>1255</th>\n      <td>web-dev-programs</td>\n      <td>632.0</td>\n      <td>4579.0</td>\n      <td>Live URL: https://courses.thinkful.com/zid-pf-javascript-on-your-machine-v1/checkpoint/5</td>\n      <td>3.0</td>\n      <td>1.0</td>\n      <td>4.0</td>\n    </tr>\n    <tr>\n      <th>1256</th>\n      <td>web-dev-programs</td>\n      <td>632.0</td>\n      <td>4579.0</td>\n      <td>Live URL: https://courses.thinkful.com/zid-pf-javascript-on-your-machine-v1/checkpoint/8</td>\n      <td>2.0</td>\n      <td>0.0</td>\n      <td>2.0</td>\n    </tr>\n    <tr>\n      <th>1257</th>\n      <td>web-dev-programs</td>\n      <td>632.0</td>\n      <td>4579.0</td>\n      <td>NaN</td>\n      <td>94.0</td>\n      <td>1503.0</td>\n      <td>1597.0</td>\n    </tr>\n  </tbody>\n</table>\n<p>1258 rows × 7 columns</p>\n</div>"
     },
     "metadata": {},
     "execution_count": 141
    }
   ],
   "source": [
    "final = dd.merge(outdf2,left_on = 'domain', right_on='domain')\n",
    "final.columns = ['domain','domain_total_open','domain_total_closed','checkpoint','checkpoint_open','checkpoint_closed','checkpoint_total']\n",
    "final"
   ]
  },
  {
   "cell_type": "code",
   "execution_count": 142,
   "metadata": {},
   "outputs": [],
   "source": [
    "final.to_csv('Issue_counts_by_domain_and_checkpoint.csv',index=False)"
   ]
  },
  {
   "cell_type": "code",
   "execution_count": 42,
   "metadata": {},
   "outputs": [
    {
     "output_type": "execute_result",
     "data": {
      "text/plain": [
       "NONE            1487\n",
       "CONTRIBUTOR     192 \n",
       "COLLABORATOR    128 \n",
       "Name: author_association, dtype: int64"
      ]
     },
     "metadata": {},
     "execution_count": 42
    }
   ],
   "source": [
    "#user submitted issues likely in NONE value\n",
    "df['author_association'].value_counts()"
   ]
  },
  {
   "cell_type": "code",
   "execution_count": 14,
   "metadata": {},
   "outputs": [
    {
     "output_type": "execute_result",
     "data": {
      "text/plain": [
       "                                                                  0  \\\n",
       "0  Took out link for video                                            \n",
       "1  Remove missing video link.                                         \n",
       "2  Made a note about double quotes if on Windows                      \n",
       "3  NaN                                                                \n",
       "4                                                                     \n",
       "5  Update with link to Cocktail Party Problem as shown in video #2.   \n",
       "6                                                                     \n",
       "7                                                                     \n",
       "8                                                                     \n",
       "9                                                                     \n",
       "\n",
       "                                                                       1  \\\n",
       "0  None                                                                    \n",
       "1  None                                                                    \n",
       "2  None                                                                    \n",
       "3  NaN                                                                     \n",
       "4  Kalika Curry (kalika_kay@hotmail.com) reported an issue.                \n",
       "5  None                                                                    \n",
       "6  Aaron Reed (aaron.j.reed@outlook.com) reported an issue.                \n",
       "7  Jaime Russ (jaimelynnruss@gmail.com) reported an issue.                 \n",
       "8  Jaime Russ (jaimelynnruss@gmail.com) reported an issue.                 \n",
       "9  Arindam  Bhattacharya (abhattacharya@thinkful.com) reported an issue.   \n",
       "\n",
       "      2     3                                    4     5  \\\n",
       "0  None  None  None                                 None   \n",
       "1  None  None  None                                 None   \n",
       "2  None  None  None                                 None   \n",
       "3  NaN   NaN   NaN                                  NaN    \n",
       "4              Name: \"Applying\"                            \n",
       "5  None  None  None                                 None   \n",
       "6              Name: \"Case study: Email marketing\"         \n",
       "7              Name: \"Basic Git commands\"                  \n",
       "8              Name: \"Basic Git commands\"                  \n",
       "9              Name: \"Guided example\"                      \n",
       "\n",
       "                                                                                 6  \\\n",
       "0  None                                                                              \n",
       "1  None                                                                              \n",
       "2  None                                                                              \n",
       "3  NaN                                                                               \n",
       "4  Live URL: https://courses.thinkful.com/ds-careers-job-searching-v2/checkpoint/2   \n",
       "5  None                                                                              \n",
       "6  Live URL: https://courses.thinkful.com/dsbc-exp-des-v2-v1/checkpoint/4            \n",
       "7  Live URL: https://courses.thinkful.com/ds-git-v1/checkpoint/4                     \n",
       "8  Live URL: https://courses.thinkful.com/ds-git-v1/checkpoint/4                     \n",
       "9  Live URL: https://courses.thinkful.com/dsbc-random-forest-v1/checkpoint/6         \n",
       "\n",
       "      7                                      8     9  ...   360   361   362  \\\n",
       "0  None  None                                   None  ...  None  None  None   \n",
       "1  None  None                                   None  ...  None  None  None   \n",
       "2  None  None                                   None  ...  None  None  None   \n",
       "3  NaN   NaN                                    NaN   ...  NaN   NaN   NaN    \n",
       "4        Course code: ds-careers-job-searching        ...  None  None  None   \n",
       "5  None  None                                   None  ...  None  None  None   \n",
       "6        Course code: DSBC-EXP-DES-V2                 ...  None  None  None   \n",
       "7        Course code: DS-GIT                          ...  None  None  None   \n",
       "8        Course code: DS-GIT                          ...  None  None  None   \n",
       "9        Course code: DSBC-RANDOM-FOREST              ...  None  None  None   \n",
       "\n",
       "    363   364   365   366   367   368   369  \n",
       "0  None  None  None  None  None  None  None  \n",
       "1  None  None  None  None  None  None  None  \n",
       "2  None  None  None  None  None  None  None  \n",
       "3  NaN   NaN   NaN   NaN   NaN   NaN   NaN   \n",
       "4  None  None  None  None  None  None  None  \n",
       "5  None  None  None  None  None  None  None  \n",
       "6  None  None  None  None  None  None  None  \n",
       "7  None  None  None  None  None  None  None  \n",
       "8  None  None  None  None  None  None  None  \n",
       "9  None  None  None  None  None  None  None  \n",
       "\n",
       "[10 rows x 370 columns]"
      ],
      "text/html": "<div>\n<style scoped>\n    .dataframe tbody tr th:only-of-type {\n        vertical-align: middle;\n    }\n\n    .dataframe tbody tr th {\n        vertical-align: top;\n    }\n\n    .dataframe thead th {\n        text-align: right;\n    }\n</style>\n<table border=\"1\" class=\"dataframe\">\n  <thead>\n    <tr style=\"text-align: right;\">\n      <th></th>\n      <th>0</th>\n      <th>1</th>\n      <th>2</th>\n      <th>3</th>\n      <th>4</th>\n      <th>5</th>\n      <th>6</th>\n      <th>7</th>\n      <th>8</th>\n      <th>9</th>\n      <th>...</th>\n      <th>360</th>\n      <th>361</th>\n      <th>362</th>\n      <th>363</th>\n      <th>364</th>\n      <th>365</th>\n      <th>366</th>\n      <th>367</th>\n      <th>368</th>\n      <th>369</th>\n    </tr>\n  </thead>\n  <tbody>\n    <tr>\n      <th>0</th>\n      <td>Took out link for video</td>\n      <td>None</td>\n      <td>None</td>\n      <td>None</td>\n      <td>None</td>\n      <td>None</td>\n      <td>None</td>\n      <td>None</td>\n      <td>None</td>\n      <td>None</td>\n      <td>...</td>\n      <td>None</td>\n      <td>None</td>\n      <td>None</td>\n      <td>None</td>\n      <td>None</td>\n      <td>None</td>\n      <td>None</td>\n      <td>None</td>\n      <td>None</td>\n      <td>None</td>\n    </tr>\n    <tr>\n      <th>1</th>\n      <td>Remove missing video link.</td>\n      <td>None</td>\n      <td>None</td>\n      <td>None</td>\n      <td>None</td>\n      <td>None</td>\n      <td>None</td>\n      <td>None</td>\n      <td>None</td>\n      <td>None</td>\n      <td>...</td>\n      <td>None</td>\n      <td>None</td>\n      <td>None</td>\n      <td>None</td>\n      <td>None</td>\n      <td>None</td>\n      <td>None</td>\n      <td>None</td>\n      <td>None</td>\n      <td>None</td>\n    </tr>\n    <tr>\n      <th>2</th>\n      <td>Made a note about double quotes if on Windows</td>\n      <td>None</td>\n      <td>None</td>\n      <td>None</td>\n      <td>None</td>\n      <td>None</td>\n      <td>None</td>\n      <td>None</td>\n      <td>None</td>\n      <td>None</td>\n      <td>...</td>\n      <td>None</td>\n      <td>None</td>\n      <td>None</td>\n      <td>None</td>\n      <td>None</td>\n      <td>None</td>\n      <td>None</td>\n      <td>None</td>\n      <td>None</td>\n      <td>None</td>\n    </tr>\n    <tr>\n      <th>3</th>\n      <td>NaN</td>\n      <td>NaN</td>\n      <td>NaN</td>\n      <td>NaN</td>\n      <td>NaN</td>\n      <td>NaN</td>\n      <td>NaN</td>\n      <td>NaN</td>\n      <td>NaN</td>\n      <td>NaN</td>\n      <td>...</td>\n      <td>NaN</td>\n      <td>NaN</td>\n      <td>NaN</td>\n      <td>NaN</td>\n      <td>NaN</td>\n      <td>NaN</td>\n      <td>NaN</td>\n      <td>NaN</td>\n      <td>NaN</td>\n      <td>NaN</td>\n    </tr>\n    <tr>\n      <th>4</th>\n      <td></td>\n      <td>Kalika Curry (kalika_kay@hotmail.com) reported an issue.</td>\n      <td></td>\n      <td></td>\n      <td>Name: \"Applying\"</td>\n      <td></td>\n      <td>Live URL: https://courses.thinkful.com/ds-careers-job-searching-v2/checkpoint/2</td>\n      <td></td>\n      <td>Course code: ds-careers-job-searching</td>\n      <td></td>\n      <td>...</td>\n      <td>None</td>\n      <td>None</td>\n      <td>None</td>\n      <td>None</td>\n      <td>None</td>\n      <td>None</td>\n      <td>None</td>\n      <td>None</td>\n      <td>None</td>\n      <td>None</td>\n    </tr>\n    <tr>\n      <th>5</th>\n      <td>Update with link to Cocktail Party Problem as shown in video #2.</td>\n      <td>None</td>\n      <td>None</td>\n      <td>None</td>\n      <td>None</td>\n      <td>None</td>\n      <td>None</td>\n      <td>None</td>\n      <td>None</td>\n      <td>None</td>\n      <td>...</td>\n      <td>None</td>\n      <td>None</td>\n      <td>None</td>\n      <td>None</td>\n      <td>None</td>\n      <td>None</td>\n      <td>None</td>\n      <td>None</td>\n      <td>None</td>\n      <td>None</td>\n    </tr>\n    <tr>\n      <th>6</th>\n      <td></td>\n      <td>Aaron Reed (aaron.j.reed@outlook.com) reported an issue.</td>\n      <td></td>\n      <td></td>\n      <td>Name: \"Case study: Email marketing\"</td>\n      <td></td>\n      <td>Live URL: https://courses.thinkful.com/dsbc-exp-des-v2-v1/checkpoint/4</td>\n      <td></td>\n      <td>Course code: DSBC-EXP-DES-V2</td>\n      <td></td>\n      <td>...</td>\n      <td>None</td>\n      <td>None</td>\n      <td>None</td>\n      <td>None</td>\n      <td>None</td>\n      <td>None</td>\n      <td>None</td>\n      <td>None</td>\n      <td>None</td>\n      <td>None</td>\n    </tr>\n    <tr>\n      <th>7</th>\n      <td></td>\n      <td>Jaime Russ (jaimelynnruss@gmail.com) reported an issue.</td>\n      <td></td>\n      <td></td>\n      <td>Name: \"Basic Git commands\"</td>\n      <td></td>\n      <td>Live URL: https://courses.thinkful.com/ds-git-v1/checkpoint/4</td>\n      <td></td>\n      <td>Course code: DS-GIT</td>\n      <td></td>\n      <td>...</td>\n      <td>None</td>\n      <td>None</td>\n      <td>None</td>\n      <td>None</td>\n      <td>None</td>\n      <td>None</td>\n      <td>None</td>\n      <td>None</td>\n      <td>None</td>\n      <td>None</td>\n    </tr>\n    <tr>\n      <th>8</th>\n      <td></td>\n      <td>Jaime Russ (jaimelynnruss@gmail.com) reported an issue.</td>\n      <td></td>\n      <td></td>\n      <td>Name: \"Basic Git commands\"</td>\n      <td></td>\n      <td>Live URL: https://courses.thinkful.com/ds-git-v1/checkpoint/4</td>\n      <td></td>\n      <td>Course code: DS-GIT</td>\n      <td></td>\n      <td>...</td>\n      <td>None</td>\n      <td>None</td>\n      <td>None</td>\n      <td>None</td>\n      <td>None</td>\n      <td>None</td>\n      <td>None</td>\n      <td>None</td>\n      <td>None</td>\n      <td>None</td>\n    </tr>\n    <tr>\n      <th>9</th>\n      <td></td>\n      <td>Arindam  Bhattacharya (abhattacharya@thinkful.com) reported an issue.</td>\n      <td></td>\n      <td></td>\n      <td>Name: \"Guided example\"</td>\n      <td></td>\n      <td>Live URL: https://courses.thinkful.com/dsbc-random-forest-v1/checkpoint/6</td>\n      <td></td>\n      <td>Course code: DSBC-RANDOM-FOREST</td>\n      <td></td>\n      <td>...</td>\n      <td>None</td>\n      <td>None</td>\n      <td>None</td>\n      <td>None</td>\n      <td>None</td>\n      <td>None</td>\n      <td>None</td>\n      <td>None</td>\n      <td>None</td>\n      <td>None</td>\n    </tr>\n  </tbody>\n</table>\n<p>10 rows × 370 columns</p>\n</div>"
     },
     "metadata": {},
     "execution_count": 14
    }
   ],
   "source": [
    "#to get checkpoints, will need to parse body text \n",
    "#if string matches url bring string otherwise unkn\n",
    "new = df['body'].str.split(\"\\n\",expand =True)\n",
    "new.head(10)"
   ]
  },
  {
   "cell_type": "code",
   "execution_count": 37,
   "metadata": {},
   "outputs": [
    {
     "output_type": "execute_result",
     "data": {
      "text/plain": [
       "                                                                                                                  checkpoint  \\\n",
       "0    Live URL: https://courses.thinkful.com/dsbc-classifications-v1/checkpoint/4                                               \n",
       "1    Live URL: https://courses.thinkful.com/dsbc-python-2-v1/checkpoint/4                                                      \n",
       "2    Live URL: https://courses.thinkful.com/dsbc-model-prep-v1/checkpoint/8                                                    \n",
       "3    Live URL: https://courses.thinkful.com/dsbc-model-prep-v1/checkpoint/7                                                    \n",
       "4    Live URL: https://courses.thinkful.com/dsbc-exp-des-v2-v1/checkpoint/1                                                    \n",
       "..                                                                      ...                                                    \n",
       "295  Live URL: https://courses.thinkful.com/dsbc-time-series-v2-v1/checkpoint/1                                                \n",
       "296  Live URL: https://courses.thinkful.com/dsbc-python-self-suff-v1/uuid/37a4fd15-276e-4cb8-9dd6-10558b3d827b#review-321539   \n",
       "297  Live URL: https://courses.thinkful.com/dsbc-web-scraping-v1/checkpoint/1                                                  \n",
       "298  Live URL: https://courses.thinkful.com/dsf-support-v1/checkpoint/4                                                        \n",
       "299  Live URL: https://courses.thinkful.com/dsbc-data-vis-1-v1/checkpoint/3                                                    \n",
       "\n",
       "     count  \n",
       "0    50     \n",
       "1    45     \n",
       "2    36     \n",
       "3    30     \n",
       "4    29     \n",
       "..   ..     \n",
       "295  1      \n",
       "296  1      \n",
       "297  1      \n",
       "298  1      \n",
       "299  1      \n",
       "\n",
       "[300 rows x 2 columns]"
      ],
      "text/html": "<div>\n<style scoped>\n    .dataframe tbody tr th:only-of-type {\n        vertical-align: middle;\n    }\n\n    .dataframe tbody tr th {\n        vertical-align: top;\n    }\n\n    .dataframe thead th {\n        text-align: right;\n    }\n</style>\n<table border=\"1\" class=\"dataframe\">\n  <thead>\n    <tr style=\"text-align: right;\">\n      <th></th>\n      <th>checkpoint</th>\n      <th>count</th>\n    </tr>\n  </thead>\n  <tbody>\n    <tr>\n      <th>0</th>\n      <td>Live URL: https://courses.thinkful.com/dsbc-classifications-v1/checkpoint/4</td>\n      <td>50</td>\n    </tr>\n    <tr>\n      <th>1</th>\n      <td>Live URL: https://courses.thinkful.com/dsbc-python-2-v1/checkpoint/4</td>\n      <td>45</td>\n    </tr>\n    <tr>\n      <th>2</th>\n      <td>Live URL: https://courses.thinkful.com/dsbc-model-prep-v1/checkpoint/8</td>\n      <td>36</td>\n    </tr>\n    <tr>\n      <th>3</th>\n      <td>Live URL: https://courses.thinkful.com/dsbc-model-prep-v1/checkpoint/7</td>\n      <td>30</td>\n    </tr>\n    <tr>\n      <th>4</th>\n      <td>Live URL: https://courses.thinkful.com/dsbc-exp-des-v2-v1/checkpoint/1</td>\n      <td>29</td>\n    </tr>\n    <tr>\n      <th>...</th>\n      <td>...</td>\n      <td>...</td>\n    </tr>\n    <tr>\n      <th>295</th>\n      <td>Live URL: https://courses.thinkful.com/dsbc-time-series-v2-v1/checkpoint/1</td>\n      <td>1</td>\n    </tr>\n    <tr>\n      <th>296</th>\n      <td>Live URL: https://courses.thinkful.com/dsbc-python-self-suff-v1/uuid/37a4fd15-276e-4cb8-9dd6-10558b3d827b#review-321539</td>\n      <td>1</td>\n    </tr>\n    <tr>\n      <th>297</th>\n      <td>Live URL: https://courses.thinkful.com/dsbc-web-scraping-v1/checkpoint/1</td>\n      <td>1</td>\n    </tr>\n    <tr>\n      <th>298</th>\n      <td>Live URL: https://courses.thinkful.com/dsf-support-v1/checkpoint/4</td>\n      <td>1</td>\n    </tr>\n    <tr>\n      <th>299</th>\n      <td>Live URL: https://courses.thinkful.com/dsbc-data-vis-1-v1/checkpoint/3</td>\n      <td>1</td>\n    </tr>\n  </tbody>\n</table>\n<p>300 rows × 2 columns</p>\n</div>"
     },
     "metadata": {},
     "execution_count": 37
    }
   ],
   "source": [
    "ckpt = pd.DataFrame(new[6].value_counts()).reset_index()\n",
    "ckpt.columns = ['checkpoint', 'count']\n",
    "ckpt"
   ]
  },
  {
   "cell_type": "code",
   "execution_count": 43,
   "metadata": {},
   "outputs": [],
   "source": [
    "#add checkpoint to df\n",
    "df['checkpoint'] = new[6]"
   ]
  },
  {
   "cell_type": "code",
   "execution_count": null,
   "metadata": {},
   "outputs": [],
   "source": [
    "#create a domain column from url\n",
    "#read in all issue files and summarize counts by open and closed\n"
   ]
  }
 ]
}